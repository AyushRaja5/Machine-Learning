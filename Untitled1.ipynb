{
 "cells": [
  {
   "cell_type": "code",
   "execution_count": 1,
   "id": "f058c8e7",
   "metadata": {},
   "outputs": [],
   "source": [
    "import cv2"
   ]
  },
  {
   "cell_type": "code",
   "execution_count": 2,
   "id": "5053e3d6",
   "metadata": {},
   "outputs": [
    {
     "name": "stdout",
     "output_type": "stream",
     "text": [
      "(604, 470)\n"
     ]
    }
   ],
   "source": [
    "img = cv2.imread('C:/Users/91930/Downloads/Shubham_Pic.jpeg',cv2.IMREAD_GRAYSCALE)\n",
    "print(img.shape)\n",
    "img.resize((500,500,3))"
   ]
  },
  {
   "cell_type": "code",
   "execution_count": 3,
   "id": "6dfc3dcc",
   "metadata": {},
   "outputs": [],
   "source": [
    "cv2.imshow('image',img)"
   ]
  },
  {
   "cell_type": "code",
   "execution_count": 4,
   "id": "74418780",
   "metadata": {},
   "outputs": [],
   "source": [
    "img2 = cv2.imread('C:/Users/91930/Downloads/Ayush ProfilePic.jpg',cv2.IMREAD_GRAYSCALE)\n",
    "img2.resize(500,500,3)"
   ]
  },
  {
   "cell_type": "code",
   "execution_count": null,
   "id": "5a7e40fe",
   "metadata": {},
   "outputs": [],
   "source": [
    "cv2.imshow('image',img2)\n",
    "cv2.waitKey(0)\n",
    "cv2.destroyAllWindows()"
   ]
  }
 ],
 "metadata": {
  "kernelspec": {
   "display_name": "Python 3",
   "language": "python",
   "name": "python3"
  },
  "language_info": {
   "codemirror_mode": {
    "name": "ipython",
    "version": 3
   },
   "file_extension": ".py",
   "mimetype": "text/x-python",
   "name": "python",
   "nbconvert_exporter": "python",
   "pygments_lexer": "ipython3",
   "version": "3.8.10"
  }
 },
 "nbformat": 4,
 "nbformat_minor": 5
}
