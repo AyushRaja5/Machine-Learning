{
 "cells": [
  {
   "cell_type": "code",
   "execution_count": 1,
   "id": "333ce9d5",
   "metadata": {},
   "outputs": [
    {
     "name": "stdout",
     "output_type": "stream",
     "text": [
      "<class 'int'>\n",
      "<class 'float'>\n",
      "<class 'int'>\n",
      "<class 'int'>\n",
      "<class 'int'>\n"
     ]
    }
   ],
   "source": [
    "# Reg. No. 11904206\n",
    "D1 = 11\n",
    "D2 = 6\n",
    "print(type(D1-D2))\n",
    "print(type(D1/D2))\n",
    "print(type(D1%D2))\n",
    "print(type(D1**D2))\n",
    "print(type(D1**D2*2))"
   ]
  },
  {
   "cell_type": "code",
   "execution_count": 2,
   "id": "96d29634",
   "metadata": {},
   "outputs": [
    {
     "name": "stdout",
     "output_type": "stream",
     "text": [
      "Enter Marks :56\n",
      "Third\n"
     ]
    }
   ],
   "source": [
    "marks = int(input(\"Enter Marks :\"))\n",
    "if(marks>=75):print(\"First\")\n",
    "elif(marks>=70 and marks<75):print(\"Upper Second\")\n",
    "elif(marks>=60 and marks<70):print(\"Second\")\n",
    "elif(marks>=50 and marks<60):print(\"Third\")\n",
    "elif(marks>=45 and marks<50):print(\"F1 Supp\")\n",
    "elif(marks>=40 and marks<45):print(\"F2\")\n",
    "elif(marks<40):print(\"F3\")"
   ]
  },
  {
   "cell_type": "code",
   "execution_count": 3,
   "id": "2ecdc985",
   "metadata": {},
   "outputs": [
    {
     "data": {
      "text/plain": [
       "424"
      ]
     },
     "execution_count": 3,
     "metadata": {},
     "output_type": "execute_result"
    }
   ],
   "source": [
    "a,b,c=63,424,98\n",
    "def maximum(a,b,c):\n",
    "    if(a>b and a>c):\n",
    "        return a\n",
    "    elif(b>a and b>c):\n",
    "        return b\n",
    "    elif(c>a and c>b):\n",
    "        return c\n",
    "    else: return \"same no. given\"\n",
    "maximum(a,b,c)"
   ]
  },
  {
   "cell_type": "code",
   "execution_count": 4,
   "id": "5850a144",
   "metadata": {},
   "outputs": [
    {
     "name": "stdout",
     "output_type": "stream",
     "text": [
      "64.85368146836385\n"
     ]
    }
   ],
   "source": [
    "import numpy as np\n",
    "#Reg. No. 11904206\n",
    "print(np.sqrt(4206))"
   ]
  },
  {
   "cell_type": "code",
   "execution_count": 5,
   "id": "20f97122",
   "metadata": {},
   "outputs": [
    {
     "name": "stdout",
     "output_type": "stream",
     "text": [
      "[1, 1, 9, 0, 4, 2, 0, 6, 17]\n"
     ]
    }
   ],
   "source": [
    "#reg = 11904206\n",
    "a = [1,1,9,0,4,2,0,6]\n",
    "a.append(17)\n",
    "print(a)"
   ]
  },
  {
   "cell_type": "code",
   "execution_count": 6,
   "id": "837e9e01",
   "metadata": {},
   "outputs": [
    {
     "name": "stdout",
     "output_type": "stream",
     "text": [
      "[1, 1, 9, 0, 4, 2, 0, 6, 17]\n"
     ]
    }
   ],
   "source": [
    "#reg = 11904206\n",
    "a = [1,1,9,0,4,2,0,6]\n",
    "a.append(17)\n",
    "print(a)\n",
    "\n",
    "#<------------------------##-------------------->\n",
    "\n",
    "# a.insert(8,17)\n",
    "# print(a)"
   ]
  },
  {
   "cell_type": "code",
   "execution_count": 7,
   "id": "b19496a9",
   "metadata": {},
   "outputs": [
    {
     "name": "stdout",
     "output_type": "stream",
     "text": [
      "[1, 9, 1, 9, 0, 4, 2, 0, 6, 17]\n"
     ]
    }
   ],
   "source": [
    "a.insert(1,9)\n",
    "print(a)"
   ]
  },
  {
   "cell_type": "code",
   "execution_count": 8,
   "id": "0f14d75e",
   "metadata": {},
   "outputs": [
    {
     "name": "stdout",
     "output_type": "stream",
     "text": [
      "[1, 9, 9, 1, 9, 0, 4, 2, 0, 6, 17]\n"
     ]
    }
   ],
   "source": [
    "a.insert(1-len(a),9)\n",
    "print(a)"
   ]
  },
  {
   "cell_type": "code",
   "execution_count": 9,
   "id": "eedbb061",
   "metadata": {},
   "outputs": [
    {
     "name": "stdout",
     "output_type": "stream",
     "text": [
      "[9, 9, 9, 0, 4, 2, 0, 6, 17]\n"
     ]
    }
   ],
   "source": [
    "del(a[3])\n",
    "del(a[0])\n",
    "print(a)\n",
    "\n",
    "# <-------------##------------>\n",
    "\n",
    "# first = a[0]\n",
    "# fourth = a[3]\n",
    "# a.remove(first)\n",
    "# a.remove(fourth)\n",
    "# print(a)"
   ]
  },
  {
   "cell_type": "code",
   "execution_count": 11,
   "id": "dfabaf8c",
   "metadata": {},
   "outputs": [
    {
     "name": "stdout",
     "output_type": "stream",
     "text": [
      "[81, 81, 81, 0, 16, 4, 0, 36, 289]\n"
     ]
    }
   ],
   "source": [
    "b = []\n",
    "for i in a:\n",
    "    b.append(i*i)\n",
    "print(b)\n",
    "\n",
    "#<--------------------------##---------------------->\n",
    "\n",
    "#c = np.square(a)\n",
    "#print(c)"
   ]
  },
  {
   "cell_type": "code",
   "execution_count": 12,
   "id": "b18a6d31",
   "metadata": {},
   "outputs": [
    {
     "name": "stdout",
     "output_type": "stream",
     "text": [
      "56\n"
     ]
    }
   ],
   "source": [
    "add = sum(a)\n",
    "print(add)"
   ]
  },
  {
   "cell_type": "code",
   "execution_count": 13,
   "id": "3b92635a",
   "metadata": {},
   "outputs": [
    {
     "name": "stdout",
     "output_type": "stream",
     "text": [
      "56\n"
     ]
    }
   ],
   "source": [
    "add2=0\n",
    "for i in a:\n",
    "    add2 = add2 + i\n",
    "print(add2)"
   ]
  },
  {
   "cell_type": "code",
   "execution_count": 14,
   "id": "148d78d8",
   "metadata": {},
   "outputs": [],
   "source": [
    "s  =  \"ayush raja\""
   ]
  },
  {
   "cell_type": "code",
   "execution_count": 15,
   "id": "1567006c",
   "metadata": {},
   "outputs": [
    {
     "data": {
      "text/plain": [
       "['a', 'y', 'u', 's', 'h', ' ', 'r', 'a', 'j', 'a']"
      ]
     },
     "execution_count": 15,
     "metadata": {},
     "output_type": "execute_result"
    }
   ],
   "source": [
    "name  = list(s)\n",
    "name"
   ]
  },
  {
   "cell_type": "code",
   "execution_count": 16,
   "id": "1f5d98da",
   "metadata": {},
   "outputs": [
    {
     "name": "stdout",
     "output_type": "stream",
     "text": [
      "Ayush Raja\n"
     ]
    }
   ],
   "source": [
    "s=\"ayush raja\"\n",
    "list1=s.split(\" \") \n",
    "for i in range(len(list1)): \n",
    "   list1[i]=list1[i].capitalize() \n",
    "s=\" \".join(list1) \n",
    "print(s) "
   ]
  },
  {
   "cell_type": "code",
   "execution_count": 17,
   "id": "4e12ef11",
   "metadata": {},
   "outputs": [
    {
     "name": "stdout",
     "output_type": "stream",
     "text": [
      "[0.1244998  0.38015354 0.66816925 0.77271987 0.95008504 0.1932077\n",
      " 0.10915509 0.69087663 0.10358167 0.50091271]\n",
      "5\n",
      "5\n"
     ]
    }
   ],
   "source": [
    "n = np.random.rand(10)\n",
    "large,small = 0,0\n",
    "for i in n:\n",
    "    if(i>=0.5):\n",
    "        large = large+1\n",
    "    else:\n",
    "        small = small+1\n",
    "print(n)\n",
    "print(large)\n",
    "print(small)"
   ]
  },
  {
   "cell_type": "code",
   "execution_count": null,
   "id": "7b8337dc",
   "metadata": {},
   "outputs": [],
   "source": []
  }
 ],
 "metadata": {
  "kernelspec": {
   "display_name": "Python 3 (ipykernel)",
   "language": "python",
   "name": "python3"
  },
  "language_info": {
   "codemirror_mode": {
    "name": "ipython",
    "version": 3
   },
   "file_extension": ".py",
   "mimetype": "text/x-python",
   "name": "python",
   "nbconvert_exporter": "python",
   "pygments_lexer": "ipython3",
   "version": "3.8.11"
  }
 },
 "nbformat": 4,
 "nbformat_minor": 5
}
