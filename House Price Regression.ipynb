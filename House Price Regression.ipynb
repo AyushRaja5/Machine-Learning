{
 "cells": [
  {
   "cell_type": "code",
   "execution_count": 1,
   "id": "62e49ab2",
   "metadata": {},
   "outputs": [],
   "source": [
    "import numpy as np\n",
    "import pandas as pd\n",
    "%matplotlib inline\n",
    "import matplotlib.pyplot as plt\n",
    "import matplotlib as mpl"
   ]
  },
  {
   "cell_type": "code",
   "execution_count": 2,
   "id": "ce04aa59",
   "metadata": {},
   "outputs": [],
   "source": [
    "import tensorflow as tf\n",
    "from tensorflow import keras"
   ]
  },
  {
   "cell_type": "code",
   "execution_count": 3,
   "id": "1f29a50c",
   "metadata": {},
   "outputs": [],
   "source": [
    "from sklearn.datasets import fetch_california_housing\n",
    "house = fetch_california_housing()"
   ]
  },
  {
   "cell_type": "code",
   "execution_count": 4,
   "id": "9ee5afe3",
   "metadata": {},
   "outputs": [
    {
     "data": {
      "text/plain": [
       "['MedInc',\n",
       " 'HouseAge',\n",
       " 'AveRooms',\n",
       " 'AveBedrms',\n",
       " 'Population',\n",
       " 'AveOccup',\n",
       " 'Latitude',\n",
       " 'Longitude']"
      ]
     },
     "execution_count": 4,
     "metadata": {},
     "output_type": "execute_result"
    }
   ],
   "source": [
    "house.feature_names"
   ]
  },
  {
   "cell_type": "code",
   "execution_count": 6,
   "id": "bcadd70d",
   "metadata": {},
   "outputs": [],
   "source": [
    "from sklearn.model_selection import train_test_split\n",
    "X_train_full ,X_test , Y_train_full ,Y_test = train_test_split(house.data , house.target, random_state=42)"
   ]
  },
  {
   "cell_type": "code",
   "execution_count": 7,
   "id": "92993bf3",
   "metadata": {},
   "outputs": [],
   "source": [
    "X_train, X_valid , Y_train ,Y_valid = train_test_split(X_train_full, Y_train_full, random_state=42)"
   ]
  },
  {
   "cell_type": "code",
   "execution_count": 8,
   "id": "f237edef",
   "metadata": {},
   "outputs": [],
   "source": [
    "from sklearn.preprocessing import StandardScaler\n",
    "scaler = StandardScaler()\n",
    "\n",
    "X_train = scaler.fit_transform(X_train)\n",
    "X_valid = scaler.transform(X_valid)\n",
    "X_test = scaler.transform(X_test)"
   ]
  },
  {
   "cell_type": "code",
   "execution_count": 10,
   "id": "55deecdf",
   "metadata": {},
   "outputs": [],
   "source": [
    "np.random.seed(42)\n",
    "tf.random.set_seed(42)"
   ]
  },
  {
   "cell_type": "code",
   "execution_count": 11,
   "id": "31beba28",
   "metadata": {},
   "outputs": [
    {
     "data": {
      "text/plain": [
       "(11610, 8)"
      ]
     },
     "execution_count": 11,
     "metadata": {},
     "output_type": "execute_result"
    }
   ],
   "source": [
    "X_train.shape"
   ]
  },
  {
   "cell_type": "code",
   "execution_count": 14,
   "id": "a8b8e434",
   "metadata": {},
   "outputs": [],
   "source": [
    "model = keras.models.Sequential([\n",
    "    keras.layers.Dense(30, activation = \"relu\" , input_shape=[8]),\n",
    "    keras.layers.Dense(50,activation = \"relu\"),\n",
    "    keras.layers.Dense(1)\n",
    "])"
   ]
  },
  {
   "cell_type": "code",
   "execution_count": 16,
   "id": "fb8ed42d",
   "metadata": {},
   "outputs": [
    {
     "name": "stdout",
     "output_type": "stream",
     "text": [
      "Model: \"sequential\"\n",
      "_________________________________________________________________\n",
      "Layer (type)                 Output Shape              Param #   \n",
      "=================================================================\n",
      "dense (Dense)                (None, 30)                270       \n",
      "_________________________________________________________________\n",
      "dense_1 (Dense)              (None, 50)                1550      \n",
      "_________________________________________________________________\n",
      "dense_2 (Dense)              (None, 1)                 51        \n",
      "=================================================================\n",
      "Total params: 1,871\n",
      "Trainable params: 1,871\n",
      "Non-trainable params: 0\n",
      "_________________________________________________________________\n"
     ]
    }
   ],
   "source": [
    "model.summary()"
   ]
  },
  {
   "cell_type": "code",
   "execution_count": 27,
   "id": "59816434",
   "metadata": {},
   "outputs": [],
   "source": [
    "model.compile(loss='mean_squared_error',\n",
    "             optimizer = keras.optimizers.SGD(lr = 1e-3),\n",
    "             metrics = [\"mae\"])"
   ]
  },
  {
   "cell_type": "code",
   "execution_count": 39,
   "id": "479d89f2",
   "metadata": {},
   "outputs": [
    {
     "name": "stdout",
     "output_type": "stream",
     "text": [
      "Epoch 1/15\n",
      "363/363 [==============================] - 1s 2ms/step - loss: 0.3981 - mae: 0.4515 - val_loss: 0.3779 - val_mae: 0.4341\n",
      "Epoch 2/15\n",
      "363/363 [==============================] - 1s 2ms/step - loss: 0.3951 - mae: 0.4487 - val_loss: 0.3986 - val_mae: 0.4400\n",
      "Epoch 3/15\n",
      "363/363 [==============================] - 1s 2ms/step - loss: 0.3924 - mae: 0.4478 - val_loss: 0.3744 - val_mae: 0.4303\n",
      "Epoch 4/15\n",
      "363/363 [==============================] - 1s 2ms/step - loss: 0.3897 - mae: 0.4455 - val_loss: 0.3747 - val_mae: 0.4334\n",
      "Epoch 5/15\n",
      "363/363 [==============================] - 1s 2ms/step - loss: 0.3875 - mae: 0.4440 - val_loss: 0.3685 - val_mae: 0.4298\n",
      "Epoch 6/15\n",
      "363/363 [==============================] - 1s 2ms/step - loss: 0.3851 - mae: 0.4429 - val_loss: 0.3724 - val_mae: 0.4271\n",
      "Epoch 7/15\n",
      "363/363 [==============================] - 1s 2ms/step - loss: 0.3831 - mae: 0.4410 - val_loss: 0.3621 - val_mae: 0.4256\n",
      "Epoch 8/15\n",
      "363/363 [==============================] - 1s 2ms/step - loss: 0.3812 - mae: 0.4398 - val_loss: 0.3617 - val_mae: 0.4241\n",
      "Epoch 9/15\n",
      "363/363 [==============================] - 1s 2ms/step - loss: 0.3792 - mae: 0.4388 - val_loss: 0.3660 - val_mae: 0.4228\n",
      "Epoch 10/15\n",
      "363/363 [==============================] - 1s 2ms/step - loss: 0.3773 - mae: 0.4373 - val_loss: 0.3668 - val_mae: 0.4220\n",
      "Epoch 11/15\n",
      "363/363 [==============================] - 1s 2ms/step - loss: 0.3756 - mae: 0.4360 - val_loss: 0.3534 - val_mae: 0.4205\n",
      "Epoch 12/15\n",
      "363/363 [==============================] - 1s 2ms/step - loss: 0.3739 - mae: 0.4348 - val_loss: 0.3790 - val_mae: 0.4224\n",
      "Epoch 13/15\n",
      "363/363 [==============================] - 1s 2ms/step - loss: 0.3723 - mae: 0.4338 - val_loss: 0.3670 - val_mae: 0.4237\n",
      "Epoch 14/15\n",
      "363/363 [==============================] - 1s 2ms/step - loss: 0.3707 - mae: 0.4325 - val_loss: 0.3518 - val_mae: 0.4203\n",
      "Epoch 15/15\n",
      "363/363 [==============================] - 1s 2ms/step - loss: 0.3692 - mae: 0.4317 - val_loss: 0.3691 - val_mae: 0.4213\n"
     ]
    }
   ],
   "source": [
    "new_model = model.fit(X_train,Y_train,  epochs=15, validation_data = (X_valid,Y_valid))"
   ]
  },
  {
   "cell_type": "code",
   "execution_count": 29,
   "id": "f0e2fef2",
   "metadata": {},
   "outputs": [
    {
     "name": "stdout",
     "output_type": "stream",
     "text": [
      "162/162 [==============================] - 0s 1ms/step - loss: 0.3960 - mae: 0.4504\n"
     ]
    },
    {
     "data": {
      "text/plain": [
       "[0.39601442217826843, 0.4504103660583496]"
      ]
     },
     "execution_count": 29,
     "metadata": {},
     "output_type": "execute_result"
    }
   ],
   "source": [
    "model.evaluate(X_test,Y_test)"
   ]
  },
  {
   "cell_type": "code",
   "execution_count": 40,
   "id": "2fb428ed",
   "metadata": {},
   "outputs": [
    {
     "data": {
      "text/plain": [
       "(0.0, 1.0)"
      ]
     },
     "execution_count": 40,
     "metadata": {},
     "output_type": "execute_result"
    },
    {
     "data": {
      "image/png": "[encoded data removed]",
      "text/plain": [
       "<Figure size 432x288 with 1 Axes>"
      ]
     },
     "metadata": {
      "needs_background": "light"
     },
     "output_type": "display_data"
    }
   ],
   "source": [
    "pd.DataFrame(new_model.history).plot(figsize=(6,4))\n",
    "plt.grid(True)\n",
    "plt.gca().set_ylim(0,1)"
   ]
  },
  {
   "cell_type": "code",
   "execution_count": 41,
   "id": "ce57429a",
   "metadata": {},
   "outputs": [],
   "source": [
    "X_new = X_test[:3]"
   ]
  },
  {
   "cell_type": "code",
   "execution_count": 42,
   "id": "feeae340",
   "metadata": {},
   "outputs": [
    {
     "data": {
      "text/plain": [
       "array([[0.6766074],\n",
       "       [1.9434307],\n",
       "       [3.768014 ]], dtype=float32)"
      ]
     },
     "execution_count": 42,
     "metadata": {},
     "output_type": "execute_result"
    }
   ],
   "source": [
    "Y_predict = model.predict(X_new)\n",
    "Y_predict"
   ]
  },
  {
   "cell_type": "code",
   "execution_count": 43,
   "id": "44ae272a",
   "metadata": {},
   "outputs": [
    {
     "data": {
      "text/plain": [
       "array([0.477  , 0.458  , 5.00001])"
      ]
     },
     "execution_count": 43,
     "metadata": {},
     "output_type": "execute_result"
    }
   ],
   "source": [
    "Y_test[:3]"
   ]
  },
  {
   "cell_type": "markdown",
   "id": "c5dbab35",
   "metadata": {},
   "source": [
    "## for deleting model in keras\n",
    "#####  del model\n",
    "    \n",
    "### for clear data in memory in ram\n",
    "#####   keras.backend.clear_session()"
   ]
  },
  {
   "cell_type": "code",
   "execution_count": 44,
   "id": "82dc7642",
   "metadata": {},
   "outputs": [],
   "source": [
    "del model"
   ]
  },
  {
   "cell_type": "code",
   "execution_count": 45,
   "id": "f5ff63e7",
   "metadata": {},
   "outputs": [],
   "source": [
    "keras.backend.clear_session()"
   ]
  },
  {
   "cell_type": "markdown",
   "id": "ac4ffb3d",
   "metadata": {},
   "source": [
    "# Creating new Model on functional  API"
   ]
  },
  {
   "cell_type": "code",
   "execution_count": 47,
   "id": "f1c6d335",
   "metadata": {},
   "outputs": [],
   "source": [
    "input_ = keras.layers.Input(shape = [8])\n",
    "hidden1 = keras.layers.Dense(30,activation = 'relu')(input_)\n",
    "hidden2 = keras.layers.Dense(50,activation = 'relu')(hidden1)\n",
    "concate = keras.layers.concatenate([hidden2,input_])\n",
    "output = keras.layers.Dense(1)(concate)\n",
    "model = keras.models.Model(inputs = [input_] ,outputs = [output])"
   ]
  },
  {
   "cell_type": "code",
   "execution_count": 49,
   "id": "23842911",
   "metadata": {},
   "outputs": [
    {
     "name": "stdout",
     "output_type": "stream",
     "text": [
      "Model: \"functional_1\"\n",
      "__________________________________________________________________________________________________\n",
      "Layer (type)                    Output Shape         Param #     Connected to                     \n",
      "==================================================================================================\n",
      "input_1 (InputLayer)            [(None, 8)]          0                                            \n",
      "__________________________________________________________________________________________________\n",
      "dense (Dense)                   (None, 30)           270         input_1[0][0]                    \n",
      "__________________________________________________________________________________________________\n",
      "dense_1 (Dense)                 (None, 50)           1550        dense[0][0]                      \n",
      "__________________________________________________________________________________________________\n",
      "concatenate (Concatenate)       (None, 58)           0           dense_1[0][0]                    \n",
      "                                                                 input_1[0][0]                    \n",
      "__________________________________________________________________________________________________\n",
      "dense_2 (Dense)                 (None, 1)            59          concatenate[0][0]                \n",
      "==================================================================================================\n",
      "Total params: 1,879\n",
      "Trainable params: 1,879\n",
      "Non-trainable params: 0\n",
      "__________________________________________________________________________________________________\n"
     ]
    }
   ],
   "source": [
    "model.summary()"
   ]
  },
  {
   "cell_type": "code",
   "execution_count": 57,
   "id": "73ec290c",
   "metadata": {},
   "outputs": [],
   "source": [
    "model.compile(loss='mean_squared_error',\n",
    "              optimizer = keras.optimizers.SGD(lr = 1e-2),\n",
    "             metrics = ['mae'])"
   ]
  },
  {
   "cell_type": "code",
   "execution_count": 58,
   "id": "e784fbce",
   "metadata": {},
   "outputs": [
    {
     "name": "stdout",
     "output_type": "stream",
     "text": [
      "Epoch 1/30\n",
      "363/363 [==============================] - 1s 3ms/step - loss: 0.7903 - mae: 0.6318 - val_loss: 1.7324 - val_mae: 0.5227\n",
      "Epoch 2/30\n",
      "363/363 [==============================] - 1s 2ms/step - loss: 0.5134 - mae: 0.5059 - val_loss: 6.8610 - val_mae: 0.5308\n",
      "Epoch 3/30\n",
      "363/363 [==============================] - 1s 2ms/step - loss: 0.6066 - mae: 0.5114 - val_loss: 20.1943 - val_mae: 0.5619\n",
      "Epoch 4/30\n",
      "363/363 [==============================] - 1s 2ms/step - loss: 0.5392 - mae: 0.4897 - val_loss: 59.7679 - val_mae: 0.6475\n",
      "Epoch 5/30\n",
      "363/363 [==============================] - 1s 2ms/step - loss: 0.4857 - mae: 0.4734 - val_loss: 86.4670 - val_mae: 0.7065\n",
      "Epoch 6/30\n",
      "363/363 [==============================] - 1s 2ms/step - loss: 1.1157 - mae: 0.5373 - val_loss: 0.5216 - val_mae: 0.4644\n",
      "Epoch 7/30\n",
      "363/363 [==============================] - 1s 2ms/step - loss: 1.6696 - mae: 0.6978 - val_loss: 253.6464 - val_mae: 0.9360\n",
      "Epoch 8/30\n",
      "363/363 [==============================] - 1s 2ms/step - loss: 0.5500 - mae: 0.5049 - val_loss: 290.5506 - val_mae: 0.9394\n",
      "Epoch 9/30\n",
      "363/363 [==============================] - 1s 2ms/step - loss: 0.4799 - mae: 0.4672 - val_loss: 1.7443 - val_mae: 0.4540\n",
      "Epoch 10/30\n",
      "363/363 [==============================] - 1s 2ms/step - loss: 0.7085 - mae: 0.5043 - val_loss: 86.4566 - val_mae: 0.6962\n",
      "Epoch 11/30\n",
      "363/363 [==============================] - 1s 2ms/step - loss: 0.6748 - mae: 0.4694 - val_loss: 600.4110 - val_mae: 1.4378\n",
      "Epoch 12/30\n",
      "363/363 [==============================] - 1s 2ms/step - loss: 10.4704 - mae: 0.8808 - val_loss: 1007.5681 - val_mae: 1.3455\n",
      "Epoch 13/30\n",
      "363/363 [==============================] - 1s 2ms/step - loss: nan - mae: nan - val_loss: nan - val_mae: nan\n",
      "Epoch 14/30\n",
      "363/363 [==============================] - 1s 3ms/step - loss: nan - mae: nan - val_loss: nan - val_mae: nan\n",
      "Epoch 15/30\n",
      "363/363 [==============================] - 1s 2ms/step - loss: nan - mae: nan - val_loss: nan - val_mae: nan\n",
      "Epoch 16/30\n",
      "363/363 [==============================] - 1s 2ms/step - loss: nan - mae: nan - val_loss: nan - val_mae: nan\n",
      "Epoch 17/30\n",
      "363/363 [==============================] - 1s 2ms/step - loss: nan - mae: nan - val_loss: nan - val_mae: nan\n",
      "Epoch 18/30\n",
      "363/363 [==============================] - 1s 2ms/step - loss: nan - mae: nan - val_loss: nan - val_mae: nan\n",
      "Epoch 19/30\n",
      "363/363 [==============================] - 1s 3ms/step - loss: nan - mae: nan - val_loss: nan - val_mae: nan\n",
      "Epoch 20/30\n",
      "363/363 [==============================] - 1s 3ms/step - loss: nan - mae: nan - val_loss: nan - val_mae: nan\n",
      "Epoch 21/30\n",
      "363/363 [==============================] - 1s 2ms/step - loss: nan - mae: nan - val_loss: nan - val_mae: nan\n",
      "Epoch 22/30\n",
      "363/363 [==============================] - 1s 3ms/step - loss: nan - mae: nan - val_loss: nan - val_mae: nan\n",
      "Epoch 23/30\n",
      "363/363 [==============================] - 1s 3ms/step - loss: nan - mae: nan - val_loss: nan - val_mae: nan\n",
      "Epoch 24/30\n",
      "363/363 [==============================] - 1s 3ms/step - loss: nan - mae: nan - val_loss: nan - val_mae: nan\n",
      "Epoch 25/30\n",
      "363/363 [==============================] - 1s 2ms/step - loss: nan - mae: nan - val_loss: nan - val_mae: nan\n",
      "Epoch 26/30\n",
      "363/363 [==============================] - 1s 2ms/step - loss: nan - mae: nan - val_loss: nan - val_mae: nan\n",
      "Epoch 27/30\n",
      "363/363 [==============================] - 1s 2ms/step - loss: nan - mae: nan - val_loss: nan - val_mae: nan\n",
      "Epoch 28/30\n",
      "363/363 [==============================] - 1s 2ms/step - loss: nan - mae: nan - val_loss: nan - val_mae: nan\n",
      "Epoch 29/30\n",
      "363/363 [==============================] - 1s 2ms/step - loss: nan - mae: nan - val_loss: nan - val_mae: nan\n",
      "Epoch 30/30\n",
      "363/363 [==============================] - 1s 3ms/step - loss: nan - mae: nan - val_loss: nan - val_mae: nan\n"
     ]
    }
   ],
   "source": [
    "model_history = model.fit(X_train,Y_train , epochs=30 , validation_data = (X_valid,Y_valid) )"
   ]
  },
  {
   "cell_type": "code",
   "execution_count": 62,
   "id": "c7308a43",
   "metadata": {},
   "outputs": [
    {
     "name": "stdout",
     "output_type": "stream",
     "text": [
      "162/162 [==============================] - 0s 2ms/step - loss: nan - mae: nan\n"
     ]
    }
   ],
   "source": [
    "model_evaluation = model.evaluate(X_test,Y_test)"
   ]
  },
  {
   "cell_type": "code",
   "execution_count": 66,
   "id": "aa7ffdb3",
   "metadata": {},
   "outputs": [
    {
     "data": {
      "text/plain": [
       "{'loss': [0.7903477549552917,\n",
       "  0.5134186744689941,\n",
       "  0.6065750122070312,\n",
       "  0.5391756296157837,\n",
       "  0.48574694991111755,\n",
       "  1.1157158613204956,\n",
       "  1.6696045398712158,\n",
       "  0.5500035881996155,\n",
       "  0.4799169600009918,\n",
       "  0.7085298299789429,\n",
       "  0.6747838854789734,\n",
       "  10.470417976379395,\n",
       "  nan,\n",
       "  nan,\n",
       "  nan,\n",
       "  nan,\n",
       "  nan,\n",
       "  nan,\n",
       "  nan,\n",
       "  nan,\n",
       "  nan,\n",
       "  nan,\n",
       "  nan,\n",
       "  nan,\n",
       "  nan,\n",
       "  nan,\n",
       "  nan,\n",
       "  nan,\n",
       "  nan,\n",
       "  nan],\n",
       " 'mae': [0.6317861080169678,\n",
       "  0.5058540105819702,\n",
       "  0.5114414691925049,\n",
       "  0.489668071269989,\n",
       "  0.47335439920425415,\n",
       "  0.5372623205184937,\n",
       "  0.6978266835212708,\n",
       "  0.5048562288284302,\n",
       "  0.4672287702560425,\n",
       "  0.5043027400970459,\n",
       "  0.469384104013443,\n",
       "  0.8808487057685852,\n",
       "  nan,\n",
       "  nan,\n",
       "  nan,\n",
       "  nan,\n",
       "  nan,\n",
       "  nan,\n",
       "  nan,\n",
       "  nan,\n",
       "  nan,\n",
       "  nan,\n",
       "  nan,\n",
       "  nan,\n",
       "  nan,\n",
       "  nan,\n",
       "  nan,\n",
       "  nan,\n",
       "  nan,\n",
       "  nan],\n",
       " 'val_loss': [1.7323575019836426,\n",
       "  6.86104154586792,\n",
       "  20.194297790527344,\n",
       "  59.76786422729492,\n",
       "  86.46704864501953,\n",
       "  0.5215668678283691,\n",
       "  253.6463623046875,\n",
       "  290.5506286621094,\n",
       "  1.7443033456802368,\n",
       "  86.45661926269531,\n",
       "  600.4110107421875,\n",
       "  1007.568115234375,\n",
       "  nan,\n",
       "  nan,\n",
       "  nan,\n",
       "  nan,\n",
       "  nan,\n",
       "  nan,\n",
       "  nan,\n",
       "  nan,\n",
       "  nan,\n",
       "  nan,\n",
       "  nan,\n",
       "  nan,\n",
       "  nan,\n",
       "  nan,\n",
       "  nan,\n",
       "  nan,\n",
       "  nan,\n",
       "  nan],\n",
       " 'val_mae': [0.5227361917495728,\n",
       "  0.5307744145393372,\n",
       "  0.5619004964828491,\n",
       "  0.6474941372871399,\n",
       "  0.7064748406410217,\n",
       "  0.4644039273262024,\n",
       "  0.9360361099243164,\n",
       "  0.9394459128379822,\n",
       "  0.45402830839157104,\n",
       "  0.6962342858314514,\n",
       "  1.4377796649932861,\n",
       "  1.3454866409301758,\n",
       "  nan,\n",
       "  nan,\n",
       "  nan,\n",
       "  nan,\n",
       "  nan,\n",
       "  nan,\n",
       "  nan,\n",
       "  nan,\n",
       "  nan,\n",
       "  nan,\n",
       "  nan,\n",
       "  nan,\n",
       "  nan,\n",
       "  nan,\n",
       "  nan,\n",
       "  nan,\n",
       "  nan,\n",
       "  nan]}"
      ]
     },
     "execution_count": 66,
     "metadata": {},
     "output_type": "execute_result"
    }
   ],
   "source": [
    "model_history.history"
   ]
  },
  {
   "cell_type": "code",
   "execution_count": 68,
   "id": "ce260ac1",
   "metadata": {},
   "outputs": [
    {
     "data": {
      "text/plain": [
       "(0.0, 1.0)"
      ]
     },
     "execution_count": 68,
     "metadata": {},
     "output_type": "execute_result"
    },
    {
     "data": {
      "image/png": "[encoded data removed]",
      "text/plain": [
       "<Figure size 432x288 with 1 Axes>"
      ]
     },
     "metadata": {
      "needs_background": "light"
     },
     "output_type": "display_data"
    }
   ],
   "source": [
    "pd.DataFrame(model_history.history).plot(figsize=(6,4))\n",
    "plt.grid(True)\n",
    "plt.gca().set_ylim(0,1)"
   ]
  },
  {
   "cell_type": "code",
   "execution_count": null,
   "id": "3c3b28ba",
   "metadata": {},
   "outputs": [],
   "source": []
  }
 ],
 "metadata": {
  "kernelspec": {
   "display_name": "Python 3 (ipykernel)",
   "language": "python",
   "name": "python3"
  },
  "language_info": {
   "codemirror_mode": {
    "name": "ipython",
    "version": 3
   },
   "file_extension": ".py",
   "mimetype": "text/x-python",
   "name": "python",
   "nbconvert_exporter": "python",
   "pygments_lexer": "ipython3",
   "version": "3.8.11"
  }
 },
 "nbformat": 4,
 "nbformat_minor": 5
}
