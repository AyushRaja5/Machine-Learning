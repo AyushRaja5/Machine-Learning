{
 "cells": [
  {
   "cell_type": "code",
   "execution_count": 1,
   "id": "2be2628e",
   "metadata": {},
   "outputs": [],
   "source": [
    "import tensorflow as tf\n",
    "from tensorflow.keras import datasets, layers,models\n",
    "import matplotlib.pyplot as plt\n",
    "import numpy as np"
   ]
  },
  {
   "cell_type": "code",
   "execution_count": 2,
   "id": "8af86f60",
   "metadata": {},
   "outputs": [],
   "source": [
    "(x_train, y_train), (x_test, y_test) = datasets.cifar10.load_data()"
   ]
  },
  {
   "cell_type": "code",
   "execution_count": 3,
   "id": "3fa907f9",
   "metadata": {},
   "outputs": [
    {
     "data": {
      "text/plain": [
       "(50000, 32, 32, 3)"
      ]
     },
     "execution_count": 3,
     "metadata": {},
     "output_type": "execute_result"
    }
   ],
   "source": [
    "x_train.shape"
   ]
  },
  {
   "cell_type": "code",
   "execution_count": 4,
   "id": "fa320f97",
   "metadata": {},
   "outputs": [
    {
     "data": {
      "text/plain": [
       "(10000, 32, 32, 3)"
      ]
     },
     "execution_count": 4,
     "metadata": {},
     "output_type": "execute_result"
    }
   ],
   "source": [
    "x_test.shape"
   ]
  },
  {
   "cell_type": "code",
   "execution_count": 5,
   "id": "60fbdee2",
   "metadata": {},
   "outputs": [
    {
     "data": {
      "text/plain": [
       "(50000, 1)"
      ]
     },
     "execution_count": 5,
     "metadata": {},
     "output_type": "execute_result"
    }
   ],
   "source": [
    "y_train.shape"
   ]
  },
  {
   "cell_type": "code",
   "execution_count": 6,
   "id": "2a933eed",
   "metadata": {},
   "outputs": [
    {
     "data": {
      "text/plain": [
       "array([[6],\n",
       "       [9],\n",
       "       [9],\n",
       "       [4],\n",
       "       [1]], dtype=uint8)"
      ]
     },
     "execution_count": 6,
     "metadata": {},
     "output_type": "execute_result"
    }
   ],
   "source": [
    "y_train[:5]"
   ]
  },
  {
   "cell_type": "code",
   "execution_count": 7,
   "id": "dc1df72a",
   "metadata": {},
   "outputs": [
    {
     "data": {
      "text/plain": [
       "array([6, 9, 9, 4, 1], dtype=uint8)"
      ]
     },
     "execution_count": 7,
     "metadata": {},
     "output_type": "execute_result"
    }
   ],
   "source": [
    "y_train = y_train.reshape(-1,)\n",
    "y_train[:5]"
   ]
  },
  {
   "cell_type": "code",
   "execution_count": 8,
   "id": "1ad87562",
   "metadata": {},
   "outputs": [
    {
     "data": {
      "text/plain": [
       "array([3, 8, 8, 0, 6], dtype=uint8)"
      ]
     },
     "execution_count": 8,
     "metadata": {},
     "output_type": "execute_result"
    }
   ],
   "source": [
    "y_test = y_test.reshape(-1,)\n",
    "y_test[:5]"
   ]
  },
  {
   "cell_type": "code",
   "execution_count": 9,
   "id": "78cfd559",
   "metadata": {},
   "outputs": [],
   "source": [
    "classes = [\"airplane\",\"automobile\",\"bird\",\"cat\",\"deer\",\"dog\",\"frog\",\"horse\",\"ship\",\"truck\"]"
   ]
  },
  {
   "cell_type": "code",
   "execution_count": 10,
   "id": "a111341d",
   "metadata": {},
   "outputs": [
    {
     "data": {
      "text/plain": [
       "['airplane',\n",
       " 'automobile',\n",
       " 'bird',\n",
       " 'cat',\n",
       " 'deer',\n",
       " 'dog',\n",
       " 'frog',\n",
       " 'horse',\n",
       " 'ship',\n",
       " 'truck']"
      ]
     },
     "execution_count": 10,
     "metadata": {},
     "output_type": "execute_result"
    }
   ],
   "source": [
    "classes"
   ]
  },
  {
   "cell_type": "code",
   "execution_count": 11,
   "id": "6976a880",
   "metadata": {},
   "outputs": [],
   "source": [
    "def imageShow(X,Y,index):\n",
    "    plt.figure(figsize = (2,2))\n",
    "    plt.imshow(X[index])\n",
    "    plt.xlabel(classes[Y[index]])"
   ]
  },
  {
   "cell_type": "code",
   "execution_count": 12,
   "id": "985a0213",
   "metadata": {},
   "outputs": [
    {
     "data": {
      "image/png": "[encoded data removed]",
      "text/plain": [
       "<Figure size 144x144 with 1 Axes>"
      ]
     },
     "metadata": {
      "needs_background": "light"
     },
     "output_type": "display_data"
    }
   ],
   "source": [
    "imageShow(x_train,y_train,5)"
   ]
  },
  {
   "cell_type": "code",
   "execution_count": 13,
   "id": "6ee36908",
   "metadata": {},
   "outputs": [],
   "source": [
    "x_train = x_train/255\n",
    "x_test = x_test/255"
   ]
  },
  {
   "cell_type": "code",
   "execution_count": 14,
   "id": "de10b4a2",
   "metadata": {},
   "outputs": [],
   "source": [
    "ann = models.Sequential([\n",
    "    layers.Flatten (input_shape = (32,32,3)),\n",
    "    layers.Dense (3000, activation = \"relu\"),\n",
    "    layers.Dense (1000, activation = \"relu\"),\n",
    "    layers.Dense (10,activation = \"softmax\")\n",
    "])"
   ]
  },
  {
   "cell_type": "code",
   "execution_count": 15,
   "id": "3c3f8c8e",
   "metadata": {},
   "outputs": [],
   "source": [
    "ann.compile(\n",
    "    optimizer = \"SGD\",\n",
    "    loss = \"sparse_categorical_crossentropy\",\n",
    "    metrics = [\"accuracy\"]\n",
    ")"
   ]
  },
  {
   "cell_type": "code",
   "execution_count": 16,
   "id": "add9479c",
   "metadata": {},
   "outputs": [
    {
     "name": "stdout",
     "output_type": "stream",
     "text": [
      "Epoch 1/7\n",
      "1563/1563 [==============================] - 103s 66ms/step - loss: 1.8150 - accuracy: 0.3539\n",
      "Epoch 2/7\n",
      "1563/1563 [==============================] - 104s 66ms/step - loss: 1.6252 - accuracy: 0.4269\n",
      "Epoch 3/7\n",
      "1563/1563 [==============================] - 106s 68ms/step - loss: 1.5447 - accuracy: 0.4548\n",
      "Epoch 4/7\n",
      "1563/1563 [==============================] - 107s 69ms/step - loss: 1.4849 - accuracy: 0.4782\n",
      "Epoch 5/7\n",
      "1563/1563 [==============================] - 105s 67ms/step - loss: 1.4359 - accuracy: 0.4952\n",
      "Epoch 6/7\n",
      "1563/1563 [==============================] - 106s 68ms/step - loss: 1.3931 - accuracy: 0.5086\n",
      "Epoch 7/7\n",
      "1563/1563 [==============================] - 108s 69ms/step - loss: 1.3521 - accuracy: 0.5227\n"
     ]
    },
    {
     "data": {
      "text/plain": [
       "<tensorflow.python.keras.callbacks.History at 0x160dc777b50>"
      ]
     },
     "execution_count": 16,
     "metadata": {},
     "output_type": "execute_result"
    }
   ],
   "source": [
    "ann.fit(x_train,y_train,epochs=7)"
   ]
  },
  {
   "cell_type": "code",
   "execution_count": 17,
   "id": "34610e4e",
   "metadata": {},
   "outputs": [
    {
     "name": "stdout",
     "output_type": "stream",
     "text": [
      "313/313 [==============================] - 7s 23ms/step - loss: 1.4956 - accuracy: 0.4630\n"
     ]
    },
    {
     "data": {
      "text/plain": [
       "[1.4956183433532715, 0.46299999952316284]"
      ]
     },
     "execution_count": 17,
     "metadata": {},
     "output_type": "execute_result"
    }
   ],
   "source": [
    "ann.evaluate(x_test,y_test)"
   ]
  },
  {
   "cell_type": "code",
   "execution_count": 18,
   "id": "41a93928",
   "metadata": {},
   "outputs": [
    {
     "data": {
      "text/plain": [
       "array([[1.16897775e-02, 1.13939140e-02, 6.96159005e-02, 4.21724737e-01,\n",
       "        2.06015408e-02, 1.08306237e-01, 3.13941628e-01, 1.42762007e-03,\n",
       "        3.93627286e-02, 1.93581323e-03],\n",
       "       [2.49148533e-02, 7.76551291e-02, 1.75422058e-03, 3.19333584e-03,\n",
       "        7.52132328e-04, 4.30999615e-04, 7.51440122e-04, 3.40797444e-04,\n",
       "        6.13241255e-01, 2.76965797e-01],\n",
       "       [1.24088623e-01, 4.88680899e-02, 6.72308030e-03, 7.08250375e-03,\n",
       "        2.18219822e-03, 2.03276798e-03, 4.10922279e-04, 6.43956056e-03,\n",
       "        7.26634383e-01, 7.55379200e-02],\n",
       "       [1.45064086e-01, 1.99106131e-02, 7.97753185e-02, 5.88393025e-02,\n",
       "        3.95855419e-02, 1.03388475e-02, 1.85987737e-03, 4.61122021e-02,\n",
       "        5.88017762e-01, 1.04964487e-02],\n",
       "       [2.21621827e-03, 8.98048340e-04, 8.32864195e-02, 4.26185615e-02,\n",
       "        2.98182130e-01, 2.99553648e-02, 5.32374263e-01, 5.71126677e-03,\n",
       "        4.43393737e-03, 3.23779037e-04],\n",
       "       [7.99490511e-03, 1.81270891e-03, 3.37600224e-02, 1.08077802e-01,\n",
       "        1.74102727e-02, 4.81144860e-02, 7.66920447e-01, 1.02819167e-02,\n",
       "        2.94130441e-04, 5.33342967e-03],\n",
       "       [9.88027640e-03, 7.11649731e-02, 3.15933377e-02, 5.14093161e-01,\n",
       "        7.19315023e-04, 2.61256874e-01, 9.53976363e-02, 8.55990406e-03,\n",
       "        6.32877462e-04, 6.70165336e-03],\n",
       "       [7.49724125e-03, 6.65924919e-04, 1.38214946e-01, 9.65040624e-02,\n",
       "        1.48150429e-01, 3.67243811e-02, 5.43323219e-01, 2.57181413e-02,\n",
       "        2.23266217e-03, 9.68990324e-04],\n",
       "       [8.66884086e-03, 5.93403820e-04, 1.85828343e-01, 3.94410133e-01,\n",
       "        1.11125499e-01, 1.84476480e-01, 9.33977216e-02, 1.87333506e-02,\n",
       "        2.19070236e-03, 5.75449027e-04],\n",
       "       [3.54416631e-02, 4.56068814e-01, 1.57169532e-02, 3.14126015e-02,\n",
       "        5.94442477e-03, 4.81576473e-03, 8.32529739e-03, 3.08786612e-03,\n",
       "        3.42977971e-01, 9.62085277e-02],\n",
       "       [9.82426628e-02, 2.32365797e-03, 8.49290192e-02, 2.26314753e-01,\n",
       "        2.26477068e-02, 1.07819967e-01, 1.57143697e-01, 1.81422324e-03,\n",
       "        2.94914693e-01, 3.84966913e-03],\n",
       "       [2.59927125e-03, 1.38992310e-01, 5.49183693e-03, 9.74425208e-03,\n",
       "        1.72086747e-03, 2.27508997e-03, 9.24674608e-03, 3.96396359e-03,\n",
       "        6.65908605e-02, 7.59374738e-01],\n",
       "       [9.25575290e-03, 1.11606963e-01, 5.50812408e-02, 2.13384002e-01,\n",
       "        1.86663400e-02, 1.50279194e-01, 3.81641686e-01, 3.94195206e-02,\n",
       "        1.19566405e-02, 8.70869309e-03],\n",
       "       [8.32123011e-02, 5.17305508e-02, 1.93607341e-02, 9.23239999e-03,\n",
       "        1.81358634e-03, 1.43431406e-02, 1.84735321e-02, 7.87642539e-01,\n",
       "        2.71291798e-03, 1.14783039e-02],\n",
       "       [1.17046507e-02, 2.77129710e-01, 3.64942104e-02, 2.67284848e-02,\n",
       "        3.44945863e-03, 1.40805496e-02, 6.63405145e-03, 4.47818898e-02,\n",
       "        8.63427948e-03, 5.70362687e-01],\n",
       "       [2.57187933e-02, 3.04448605e-03, 4.10327688e-02, 8.69443864e-02,\n",
       "        5.88802397e-02, 1.01912588e-01, 6.98334947e-02, 1.05388202e-02,\n",
       "        5.98619938e-01, 3.47447908e-03],\n",
       "       [1.85312657e-03, 1.48786595e-02, 2.40236223e-02, 3.54466677e-01,\n",
       "        1.09671161e-03, 4.25314277e-01, 2.70815510e-02, 1.29250348e-01,\n",
       "        1.06658984e-03, 2.09683534e-02],\n",
       "       [6.57269657e-02, 3.27853393e-03, 7.19604343e-02, 3.00759226e-01,\n",
       "        7.00073540e-02, 8.55141580e-02, 2.74680912e-01, 7.99940675e-02,\n",
       "        8.80339742e-03, 3.92749161e-02],\n",
       "       [8.76257941e-03, 2.38736044e-03, 1.86131831e-04, 5.02911222e-04,\n",
       "        2.65009789e-04, 2.89812797e-05, 1.42575926e-04, 1.21612160e-04,\n",
       "        9.85165775e-01, 2.43705767e-03],\n",
       "       [7.80237373e-04, 1.17537100e-03, 4.64271661e-03, 3.68956514e-02,\n",
       "        4.04567458e-03, 1.27272457e-02, 9.14457262e-01, 2.05282774e-02,\n",
       "        1.58096867e-04, 4.58962750e-03]], dtype=float32)"
      ]
     },
     "execution_count": 18,
     "metadata": {},
     "output_type": "execute_result"
    }
   ],
   "source": [
    "y_pred = ann.predict(x_test)\n",
    "y_pred[:20]"
   ]
  },
  {
   "cell_type": "code",
   "execution_count": 19,
   "id": "cf88dc0f",
   "metadata": {},
   "outputs": [],
   "source": [
    "y_classes = [np.argmax(element for element in y_pred)]"
   ]
  },
  {
   "cell_type": "code",
   "execution_count": 20,
   "id": "1f114e26",
   "metadata": {},
   "outputs": [
    {
     "data": {
      "text/plain": [
       "array([3, 8, 8, 0, 6], dtype=uint8)"
      ]
     },
     "execution_count": 20,
     "metadata": {},
     "output_type": "execute_result"
    }
   ],
   "source": [
    "y_test[:5]"
   ]
  },
  {
   "cell_type": "code",
   "execution_count": 21,
   "id": "c6424885",
   "metadata": {
    "scrolled": true
   },
   "outputs": [
    {
     "data": {
      "image/png": "[encoded data removed]",
      "text/plain": [
       "<Figure size 144x144 with 1 Axes>"
      ]
     },
     "metadata": {
      "needs_background": "light"
     },
     "output_type": "display_data"
    }
   ],
   "source": [
    "imageShow(x_test,y_test,100)"
   ]
  },
  {
   "cell_type": "code",
   "execution_count": null,
   "id": "dd601824",
   "metadata": {},
   "outputs": [],
   "source": [
    "cnn = models.Sequential([\n",
    "    layers.Conv2D(filters = 64,kernel_size = (3,3),activation = \"relu\" ,input_shape = (32,32,3)),\n",
    "    layers.MaxPooling2D(2,2),\n",
    "    layers.Conv2D(filters = 32,kernel_size = (3,3),activation = \"relu\" ,),\n",
    "    layers.MaxPooling2D(2,2),\n",
    "    layers.Flatten(),\n",
    "    layers.Dense(32,activation = \"relu\"),\n",
    "    layers.Dense(10, activation = \"softmax\")\n",
    "])"
   ]
  },
  {
   "cell_type": "code",
   "execution_count": null,
   "id": "c44bf9c8",
   "metadata": {},
   "outputs": [],
   "source": [
    "cnn.compile(\n",
    "        optimizer = \"adam\",\n",
    "        loss= \"sparse_categorical_crossentropy\",\n",
    "        metrics = [\"accuracy\"]\n",
    ")"
   ]
  },
  {
   "cell_type": "code",
   "execution_count": null,
   "id": "2fc198e1",
   "metadata": {},
   "outputs": [],
   "source": [
    "cnn.fit(x_train,y_train,epochs=7)"
   ]
  },
  {
   "cell_type": "code",
   "execution_count": null,
   "id": "53fe5bbf",
   "metadata": {},
   "outputs": [],
   "source": [
    "y_classes = [np.argmax(element for element in y_pred)]\n",
    "imageShow(x_test,y_test,51)"
   ]
  }
 ],
 "metadata": {
  "kernelspec": {
   "display_name": "Python 3 (ipykernel)",
   "language": "python",
   "name": "python3"
  },
  "language_info": {
   "codemirror_mode": {
    "name": "ipython",
    "version": 3
   },
   "file_extension": ".py",
   "mimetype": "text/x-python",
   "name": "python",
   "nbconvert_exporter": "python",
   "pygments_lexer": "ipython3",
   "version": "3.8.11"
  }
 },
 "nbformat": 4,
 "nbformat_minor": 5
}
