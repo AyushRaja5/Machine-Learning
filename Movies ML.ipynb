{
 "cells": [
  {
   "cell_type": "code",
   "execution_count": 1,
   "id": "c4f4fb4e",
   "metadata": {},
   "outputs": [],
   "source": [
    "import numpy as np\n",
    "import pandas as pd\n",
    "import seaborn as sns"
   ]
  },
  {
   "cell_type": "code",
   "execution_count": 2,
   "id": "182eb827",
   "metadata": {},
   "outputs": [],
   "source": [
    "movies= pd.read_csv(\"D:/Machine Learning CSV/Movie_collection_train.csv\",header=0)"
   ]
  },
  {
   "cell_type": "code",
   "execution_count": 3,
   "id": "4f43f690",
   "metadata": {},
   "outputs": [
    {
     "data": {
      "text/html": [
       "<div>\n",
       "<style scoped>\n",
       "    .dataframe tbody tr th:only-of-type {\n",
       "        vertical-align: middle;\n",
       "    }\n",
       "\n",
       "    .dataframe tbody tr th {\n",
       "        vertical-align: top;\n",
       "    }\n",
       "\n",
       "    .dataframe thead th {\n",
       "        text-align: right;\n",
       "    }\n",
       "</style>\n",
       "<table border=\"1\" class=\"dataframe\">\n",
       "  <thead>\n",
       "    <tr style=\"text-align: right;\">\n",
       "      <th></th>\n",
       "      <th>Collection</th>\n",
       "      <th>Marketin_expense</th>\n",
       "      <th>Production_expense</th>\n",
       "      <th>Multiplex_coverage</th>\n",
       "      <th>Budget</th>\n",
       "      <th>Movie_length</th>\n",
       "      <th>Lead_ Actor_Rating</th>\n",
       "      <th>Lead_Actress_rating</th>\n",
       "      <th>Director_rating</th>\n",
       "      <th>Producer_rating</th>\n",
       "      <th>Critic_rating</th>\n",
       "      <th>Trailer_views</th>\n",
       "      <th>Time_taken</th>\n",
       "      <th>Twitter_hastags</th>\n",
       "      <th>Genre</th>\n",
       "      <th>Avg_age_actors</th>\n",
       "      <th>MPAA_film_rating</th>\n",
       "      <th>Num_multiplex</th>\n",
       "      <th>3D_available</th>\n",
       "    </tr>\n",
       "  </thead>\n",
       "  <tbody>\n",
       "    <tr>\n",
       "      <th>0</th>\n",
       "      <td>48000</td>\n",
       "      <td>20.1264</td>\n",
       "      <td>59.62</td>\n",
       "      <td>0.462</td>\n",
       "      <td>36524.125</td>\n",
       "      <td>138.7</td>\n",
       "      <td>7.825</td>\n",
       "      <td>8.095</td>\n",
       "      <td>7.910</td>\n",
       "      <td>7.995</td>\n",
       "      <td>7.94</td>\n",
       "      <td>527367</td>\n",
       "      <td>109.60</td>\n",
       "      <td>223.840</td>\n",
       "      <td>Thriller</td>\n",
       "      <td>23</td>\n",
       "      <td>PG</td>\n",
       "      <td>494</td>\n",
       "      <td>YES</td>\n",
       "    </tr>\n",
       "    <tr>\n",
       "      <th>1</th>\n",
       "      <td>43200</td>\n",
       "      <td>20.5462</td>\n",
       "      <td>69.14</td>\n",
       "      <td>0.531</td>\n",
       "      <td>35668.655</td>\n",
       "      <td>152.4</td>\n",
       "      <td>7.505</td>\n",
       "      <td>7.650</td>\n",
       "      <td>7.440</td>\n",
       "      <td>7.470</td>\n",
       "      <td>7.44</td>\n",
       "      <td>494055</td>\n",
       "      <td>146.64</td>\n",
       "      <td>243.456</td>\n",
       "      <td>Drama</td>\n",
       "      <td>42</td>\n",
       "      <td>PG</td>\n",
       "      <td>462</td>\n",
       "      <td>NO</td>\n",
       "    </tr>\n",
       "    <tr>\n",
       "      <th>2</th>\n",
       "      <td>69400</td>\n",
       "      <td>20.5458</td>\n",
       "      <td>69.14</td>\n",
       "      <td>0.531</td>\n",
       "      <td>39912.675</td>\n",
       "      <td>134.6</td>\n",
       "      <td>7.485</td>\n",
       "      <td>7.570</td>\n",
       "      <td>7.495</td>\n",
       "      <td>7.515</td>\n",
       "      <td>7.44</td>\n",
       "      <td>547051</td>\n",
       "      <td>147.88</td>\n",
       "      <td>2022.400</td>\n",
       "      <td>Comedy</td>\n",
       "      <td>38</td>\n",
       "      <td>PG</td>\n",
       "      <td>458</td>\n",
       "      <td>NO</td>\n",
       "    </tr>\n",
       "    <tr>\n",
       "      <th>3</th>\n",
       "      <td>66800</td>\n",
       "      <td>20.6474</td>\n",
       "      <td>59.36</td>\n",
       "      <td>0.542</td>\n",
       "      <td>38873.890</td>\n",
       "      <td>119.3</td>\n",
       "      <td>6.895</td>\n",
       "      <td>7.035</td>\n",
       "      <td>6.920</td>\n",
       "      <td>7.020</td>\n",
       "      <td>8.26</td>\n",
       "      <td>516279</td>\n",
       "      <td>185.36</td>\n",
       "      <td>225.344</td>\n",
       "      <td>Drama</td>\n",
       "      <td>45</td>\n",
       "      <td>PG</td>\n",
       "      <td>472</td>\n",
       "      <td>YES</td>\n",
       "    </tr>\n",
       "    <tr>\n",
       "      <th>4</th>\n",
       "      <td>72400</td>\n",
       "      <td>21.3810</td>\n",
       "      <td>59.36</td>\n",
       "      <td>0.542</td>\n",
       "      <td>39701.585</td>\n",
       "      <td>127.7</td>\n",
       "      <td>6.920</td>\n",
       "      <td>7.070</td>\n",
       "      <td>6.815</td>\n",
       "      <td>7.070</td>\n",
       "      <td>8.26</td>\n",
       "      <td>531448</td>\n",
       "      <td>176.48</td>\n",
       "      <td>225.792</td>\n",
       "      <td>Drama</td>\n",
       "      <td>55</td>\n",
       "      <td>PG</td>\n",
       "      <td>395</td>\n",
       "      <td>NO</td>\n",
       "    </tr>\n",
       "  </tbody>\n",
       "</table>\n",
       "</div>"
      ],
      "text/plain": [
       "   Collection  Marketin_expense  Production_expense  Multiplex_coverage  \\\n",
       "0       48000           20.1264               59.62               0.462   \n",
       "1       43200           20.5462               69.14               0.531   \n",
       "2       69400           20.5458               69.14               0.531   \n",
       "3       66800           20.6474               59.36               0.542   \n",
       "4       72400           21.3810               59.36               0.542   \n",
       "\n",
       "      Budget  Movie_length  Lead_ Actor_Rating  Lead_Actress_rating  \\\n",
       "0  36524.125         138.7               7.825                8.095   \n",
       "1  35668.655         152.4               7.505                7.650   \n",
       "2  39912.675         134.6               7.485                7.570   \n",
       "3  38873.890         119.3               6.895                7.035   \n",
       "4  39701.585         127.7               6.920                7.070   \n",
       "\n",
       "   Director_rating  Producer_rating  Critic_rating  Trailer_views  Time_taken  \\\n",
       "0            7.910            7.995           7.94         527367      109.60   \n",
       "1            7.440            7.470           7.44         494055      146.64   \n",
       "2            7.495            7.515           7.44         547051      147.88   \n",
       "3            6.920            7.020           8.26         516279      185.36   \n",
       "4            6.815            7.070           8.26         531448      176.48   \n",
       "\n",
       "   Twitter_hastags     Genre  Avg_age_actors MPAA_film_rating  Num_multiplex  \\\n",
       "0          223.840  Thriller              23               PG            494   \n",
       "1          243.456     Drama              42               PG            462   \n",
       "2         2022.400    Comedy              38               PG            458   \n",
       "3          225.344     Drama              45               PG            472   \n",
       "4          225.792     Drama              55               PG            395   \n",
       "\n",
       "  3D_available  \n",
       "0          YES  \n",
       "1           NO  \n",
       "2           NO  \n",
       "3          YES  \n",
       "4           NO  "
      ]
     },
     "execution_count": 3,
     "metadata": {},
     "output_type": "execute_result"
    }
   ],
   "source": [
    "movies.head()"
   ]
  },
  {
   "cell_type": "code",
   "execution_count": 4,
   "id": "96497fc2",
   "metadata": {},
   "outputs": [
    {
     "name": "stdout",
     "output_type": "stream",
     "text": [
      "<class 'pandas.core.frame.DataFrame'>\n",
      "RangeIndex: 400 entries, 0 to 399\n",
      "Data columns (total 19 columns):\n",
      " #   Column               Non-Null Count  Dtype  \n",
      "---  ------               --------------  -----  \n",
      " 0   Collection           400 non-null    int64  \n",
      " 1   Marketin_expense     400 non-null    float64\n",
      " 2   Production_expense   400 non-null    float64\n",
      " 3   Multiplex_coverage   400 non-null    float64\n",
      " 4   Budget               400 non-null    float64\n",
      " 5   Movie_length         400 non-null    float64\n",
      " 6   Lead_ Actor_Rating   400 non-null    float64\n",
      " 7   Lead_Actress_rating  400 non-null    float64\n",
      " 8   Director_rating      400 non-null    float64\n",
      " 9   Producer_rating      400 non-null    float64\n",
      " 10  Critic_rating        400 non-null    float64\n",
      " 11  Trailer_views        400 non-null    int64  \n",
      " 12  Time_taken           392 non-null    float64\n",
      " 13  Twitter_hastags      400 non-null    float64\n",
      " 14  Genre                400 non-null    object \n",
      " 15  Avg_age_actors       400 non-null    int64  \n",
      " 16  MPAA_film_rating     400 non-null    object \n",
      " 17  Num_multiplex        400 non-null    int64  \n",
      " 18  3D_available         400 non-null    object \n",
      "dtypes: float64(12), int64(4), object(3)\n",
      "memory usage: 59.5+ KB\n"
     ]
    }
   ],
   "source": [
    "movies.info()"
   ]
  },
  {
   "cell_type": "code",
   "execution_count": 5,
   "id": "41171b41",
   "metadata": {},
   "outputs": [
    {
     "data": {
      "text/html": [
       "<div>\n",
       "<style scoped>\n",
       "    .dataframe tbody tr th:only-of-type {\n",
       "        vertical-align: middle;\n",
       "    }\n",
       "\n",
       "    .dataframe tbody tr th {\n",
       "        vertical-align: top;\n",
       "    }\n",
       "\n",
       "    .dataframe thead th {\n",
       "        text-align: right;\n",
       "    }\n",
       "</style>\n",
       "<table border=\"1\" class=\"dataframe\">\n",
       "  <thead>\n",
       "    <tr style=\"text-align: right;\">\n",
       "      <th></th>\n",
       "      <th>Collection</th>\n",
       "      <th>Marketin_expense</th>\n",
       "      <th>Production_expense</th>\n",
       "      <th>Multiplex_coverage</th>\n",
       "      <th>Budget</th>\n",
       "      <th>Movie_length</th>\n",
       "      <th>Lead_ Actor_Rating</th>\n",
       "      <th>Lead_Actress_rating</th>\n",
       "      <th>Director_rating</th>\n",
       "      <th>Producer_rating</th>\n",
       "      <th>Critic_rating</th>\n",
       "      <th>Trailer_views</th>\n",
       "      <th>Time_taken</th>\n",
       "      <th>Twitter_hastags</th>\n",
       "      <th>Avg_age_actors</th>\n",
       "      <th>Num_multiplex</th>\n",
       "    </tr>\n",
       "  </thead>\n",
       "  <tbody>\n",
       "    <tr>\n",
       "      <th>count</th>\n",
       "      <td>400.000000</td>\n",
       "      <td>400.000000</td>\n",
       "      <td>400.000000</td>\n",
       "      <td>400.000000</td>\n",
       "      <td>400.000000</td>\n",
       "      <td>400.000000</td>\n",
       "      <td>400.000000</td>\n",
       "      <td>400.000000</td>\n",
       "      <td>400.000000</td>\n",
       "      <td>400.000000</td>\n",
       "      <td>400.000000</td>\n",
       "      <td>400.000000</td>\n",
       "      <td>392.000000</td>\n",
       "      <td>400.000000</td>\n",
       "      <td>400.000000</td>\n",
       "      <td>400.000000</td>\n",
       "    </tr>\n",
       "    <tr>\n",
       "      <th>mean</th>\n",
       "      <td>48646.500000</td>\n",
       "      <td>55.017181</td>\n",
       "      <td>73.832700</td>\n",
       "      <td>0.469881</td>\n",
       "      <td>35197.771537</td>\n",
       "      <td>137.581750</td>\n",
       "      <td>7.810275</td>\n",
       "      <td>7.982813</td>\n",
       "      <td>7.813375</td>\n",
       "      <td>7.993888</td>\n",
       "      <td>7.894100</td>\n",
       "      <td>463223.567500</td>\n",
       "      <td>157.790000</td>\n",
       "      <td>258.083840</td>\n",
       "      <td>38.715000</td>\n",
       "      <td>523.650000</td>\n",
       "    </tr>\n",
       "    <tr>\n",
       "      <th>std</th>\n",
       "      <td>18308.499136</td>\n",
       "      <td>119.755634</td>\n",
       "      <td>13.023426</td>\n",
       "      <td>0.113920</td>\n",
       "      <td>4075.766926</td>\n",
       "      <td>28.990673</td>\n",
       "      <td>1.088694</td>\n",
       "      <td>1.089923</td>\n",
       "      <td>1.093581</td>\n",
       "      <td>1.088619</td>\n",
       "      <td>0.672413</td>\n",
       "      <td>65225.567649</td>\n",
       "      <td>31.723517</td>\n",
       "      <td>94.621476</td>\n",
       "      <td>12.651043</td>\n",
       "      <td>103.661283</td>\n",
       "    </tr>\n",
       "    <tr>\n",
       "      <th>min</th>\n",
       "      <td>10000.000000</td>\n",
       "      <td>20.126400</td>\n",
       "      <td>55.920000</td>\n",
       "      <td>0.129000</td>\n",
       "      <td>19781.355000</td>\n",
       "      <td>76.400000</td>\n",
       "      <td>3.840000</td>\n",
       "      <td>4.035000</td>\n",
       "      <td>3.840000</td>\n",
       "      <td>4.030000</td>\n",
       "      <td>6.600000</td>\n",
       "      <td>215432.000000</td>\n",
       "      <td>0.000000</td>\n",
       "      <td>201.632000</td>\n",
       "      <td>3.000000</td>\n",
       "      <td>333.000000</td>\n",
       "    </tr>\n",
       "    <tr>\n",
       "      <th>25%</th>\n",
       "      <td>37800.000000</td>\n",
       "      <td>21.321950</td>\n",
       "      <td>63.250000</td>\n",
       "      <td>0.419000</td>\n",
       "      <td>32721.727500</td>\n",
       "      <td>111.175000</td>\n",
       "      <td>7.092500</td>\n",
       "      <td>7.252500</td>\n",
       "      <td>7.123750</td>\n",
       "      <td>7.273750</td>\n",
       "      <td>7.320000</td>\n",
       "      <td>436793.500000</td>\n",
       "      <td>133.360000</td>\n",
       "      <td>223.804000</td>\n",
       "      <td>26.000000</td>\n",
       "      <td>451.000000</td>\n",
       "    </tr>\n",
       "    <tr>\n",
       "      <th>50%</th>\n",
       "      <td>45000.000000</td>\n",
       "      <td>23.214700</td>\n",
       "      <td>69.030000</td>\n",
       "      <td>0.494500</td>\n",
       "      <td>34593.762500</td>\n",
       "      <td>142.250000</td>\n",
       "      <td>7.995000</td>\n",
       "      <td>8.157500</td>\n",
       "      <td>7.990000</td>\n",
       "      <td>8.140000</td>\n",
       "      <td>7.960000</td>\n",
       "      <td>474930.000000</td>\n",
       "      <td>159.720000</td>\n",
       "      <td>246.680000</td>\n",
       "      <td>39.000000</td>\n",
       "      <td>510.000000</td>\n",
       "    </tr>\n",
       "    <tr>\n",
       "      <th>75%</th>\n",
       "      <td>56500.000000</td>\n",
       "      <td>34.638300</td>\n",
       "      <td>82.840000</td>\n",
       "      <td>0.558000</td>\n",
       "      <td>37142.118750</td>\n",
       "      <td>165.400000</td>\n",
       "      <td>8.725000</td>\n",
       "      <td>8.912500</td>\n",
       "      <td>8.740000</td>\n",
       "      <td>8.931250</td>\n",
       "      <td>8.400000</td>\n",
       "      <td>507690.500000</td>\n",
       "      <td>183.210000</td>\n",
       "      <td>283.444000</td>\n",
       "      <td>50.000000</td>\n",
       "      <td>571.000000</td>\n",
       "    </tr>\n",
       "    <tr>\n",
       "      <th>max</th>\n",
       "      <td>100000.000000</td>\n",
       "      <td>1799.524000</td>\n",
       "      <td>106.300000</td>\n",
       "      <td>0.615000</td>\n",
       "      <td>48772.900000</td>\n",
       "      <td>173.500000</td>\n",
       "      <td>9.435000</td>\n",
       "      <td>9.540000</td>\n",
       "      <td>9.425000</td>\n",
       "      <td>9.635000</td>\n",
       "      <td>9.400000</td>\n",
       "      <td>567784.000000</td>\n",
       "      <td>217.520000</td>\n",
       "      <td>2022.400000</td>\n",
       "      <td>60.000000</td>\n",
       "      <td>868.000000</td>\n",
       "    </tr>\n",
       "  </tbody>\n",
       "</table>\n",
       "</div>"
      ],
      "text/plain": [
       "          Collection  Marketin_expense  Production_expense  \\\n",
       "count     400.000000        400.000000          400.000000   \n",
       "mean    48646.500000         55.017181           73.832700   \n",
       "std     18308.499136        119.755634           13.023426   \n",
       "min     10000.000000         20.126400           55.920000   \n",
       "25%     37800.000000         21.321950           63.250000   \n",
       "50%     45000.000000         23.214700           69.030000   \n",
       "75%     56500.000000         34.638300           82.840000   \n",
       "max    100000.000000       1799.524000          106.300000   \n",
       "\n",
       "       Multiplex_coverage        Budget  Movie_length  Lead_ Actor_Rating  \\\n",
       "count          400.000000    400.000000    400.000000          400.000000   \n",
       "mean             0.469881  35197.771537    137.581750            7.810275   \n",
       "std              0.113920   4075.766926     28.990673            1.088694   \n",
       "min              0.129000  19781.355000     76.400000            3.840000   \n",
       "25%              0.419000  32721.727500    111.175000            7.092500   \n",
       "50%              0.494500  34593.762500    142.250000            7.995000   \n",
       "75%              0.558000  37142.118750    165.400000            8.725000   \n",
       "max              0.615000  48772.900000    173.500000            9.435000   \n",
       "\n",
       "       Lead_Actress_rating  Director_rating  Producer_rating  Critic_rating  \\\n",
       "count           400.000000       400.000000       400.000000     400.000000   \n",
       "mean              7.982813         7.813375         7.993888       7.894100   \n",
       "std               1.089923         1.093581         1.088619       0.672413   \n",
       "min               4.035000         3.840000         4.030000       6.600000   \n",
       "25%               7.252500         7.123750         7.273750       7.320000   \n",
       "50%               8.157500         7.990000         8.140000       7.960000   \n",
       "75%               8.912500         8.740000         8.931250       8.400000   \n",
       "max               9.540000         9.425000         9.635000       9.400000   \n",
       "\n",
       "       Trailer_views  Time_taken  Twitter_hastags  Avg_age_actors  \\\n",
       "count     400.000000  392.000000       400.000000      400.000000   \n",
       "mean   463223.567500  157.790000       258.083840       38.715000   \n",
       "std     65225.567649   31.723517        94.621476       12.651043   \n",
       "min    215432.000000    0.000000       201.632000        3.000000   \n",
       "25%    436793.500000  133.360000       223.804000       26.000000   \n",
       "50%    474930.000000  159.720000       246.680000       39.000000   \n",
       "75%    507690.500000  183.210000       283.444000       50.000000   \n",
       "max    567784.000000  217.520000      2022.400000       60.000000   \n",
       "\n",
       "       Num_multiplex  \n",
       "count     400.000000  \n",
       "mean      523.650000  \n",
       "std       103.661283  \n",
       "min       333.000000  \n",
       "25%       451.000000  \n",
       "50%       510.000000  \n",
       "75%       571.000000  \n",
       "max       868.000000  "
      ]
     },
     "execution_count": 5,
     "metadata": {},
     "output_type": "execute_result"
    }
   ],
   "source": [
    "movies.describe()"
   ]
  },
  {
   "cell_type": "markdown",
   "id": "3dbe7efe",
   "metadata": {},
   "source": [
    "#    1st observation\n",
    "####  Time_taken ke pass 392 hai 400 me se..."
   ]
  },
  {
   "cell_type": "code",
   "execution_count": 6,
   "id": "62d7648b",
   "metadata": {},
   "outputs": [
    {
     "data": {
      "text/plain": [
       "<AxesSubplot:ylabel='Marketin_expense'>"
      ]
     },
     "execution_count": 6,
     "metadata": {},
     "output_type": "execute_result"
    },
    {
     "data": {
      "image/png": "[encoded data removed]",
      "text/plain": [
       "<Figure size 432x288 with 1 Axes>"
      ]
     },
     "metadata": {
      "needs_background": "light"
     },
     "output_type": "display_data"
    }
   ],
   "source": [
    "sns.boxplot(data=movies,y='Marketin_expense')"
   ]
  },
  {
   "cell_type": "code",
   "execution_count": 7,
   "id": "ab3b40fe",
   "metadata": {},
   "outputs": [
    {
     "data": {
      "text/plain": [
       "<seaborn.axisgrid.JointGrid at 0x25c65add610>"
      ]
     },
     "execution_count": 7,
     "metadata": {},
     "output_type": "execute_result"
    },
    {
     "data": {
      "image/png": "[encoded data removed]",
      "text/plain": [
       "<Figure size 288x288 with 3 Axes>"
      ]
     },
     "metadata": {
      "needs_background": "light"
     },
     "output_type": "display_data"
    }
   ],
   "source": [
    "sns.jointplot(data=movies,y='Marketin_expense',x='Collection',height=4)"
   ]
  },
  {
   "cell_type": "code",
   "execution_count": 8,
   "id": "5c72e444",
   "metadata": {},
   "outputs": [
    {
     "data": {
      "text/plain": [
       "<seaborn.axisgrid.JointGrid at 0x25c60cb8700>"
      ]
     },
     "execution_count": 8,
     "metadata": {},
     "output_type": "execute_result"
    },
    {
     "data": {
      "image/png": "[encoded data removed]",
      "text/plain": [
       "<Figure size 288x288 with 3 Axes>"
      ]
     },
     "metadata": {
      "needs_background": "light"
     },
     "output_type": "display_data"
    }
   ],
   "source": [
    "sns.jointplot(x='Collection',y='Twitter_hastags',data=movies,height=4)"
   ]
  },
  {
   "cell_type": "code",
   "execution_count": 9,
   "id": "dcaeef70",
   "metadata": {},
   "outputs": [
    {
     "data": {
      "text/plain": [
       "<seaborn.axisgrid.JointGrid at 0x25c662756d0>"
      ]
     },
     "execution_count": 9,
     "metadata": {},
     "output_type": "execute_result"
    },
    {
     "data": {
      "image/png": "[encoded data removed]",
      "text/plain": [
       "<Figure size 288x288 with 3 Axes>"
      ]
     },
     "metadata": {
      "needs_background": "light"
     },
     "output_type": "display_data"
    }
   ],
   "source": [
    "sns.jointplot(x='Collection',y='Time_taken',data=movies,height=4)"
   ]
  },
  {
   "cell_type": "code",
   "execution_count": 10,
   "id": "af09f3f8",
   "metadata": {},
   "outputs": [
    {
     "data": {
      "text/plain": [
       "<seaborn.axisgrid.JointGrid at 0x25c66383730>"
      ]
     },
     "execution_count": 10,
     "metadata": {},
     "output_type": "execute_result"
    },
    {
     "data": {
      "image/png": "[encoded data removed]",
      "text/plain": [
       "<Figure size 288x288 with 3 Axes>"
      ]
     },
     "metadata": {
      "needs_background": "light"
     },
     "output_type": "display_data"
    }
   ],
   "source": [
    "sns.jointplot(y='Avg_age_actors',x='Collection',data=movies,height=4)"
   ]
  },
  {
   "cell_type": "markdown",
   "id": "ae44b9d6",
   "metadata": {},
   "source": [
    "# 2nd Observation"
   ]
  },
  {
   "cell_type": "markdown",
   "id": "f113cbef",
   "metadata": {},
   "source": [
    "## Outliers\n",
    "#####   Max-----> Marketin_expense   &     Twitter_hastags\n",
    "#####   Min------> Time_taken       &       Avg_age_actors\n",
    "#####   MPAA_film_rating has no use because all are    PG"
   ]
  },
  {
   "cell_type": "code",
   "execution_count": 11,
   "id": "519665ca",
   "metadata": {},
   "outputs": [
    {
     "data": {
      "text/plain": [
       "<AxesSubplot:xlabel='MPAA_film_rating', ylabel='count'>"
      ]
     },
     "execution_count": 11,
     "metadata": {},
     "output_type": "execute_result"
    },
    {
     "data": {
      "image/png": "[encoded data removed]",
      "text/plain": [
       "<Figure size 432x288 with 1 Axes>"
      ]
     },
     "metadata": {
      "needs_background": "light"
     },
     "output_type": "display_data"
    }
   ],
   "source": [
    "sns.countplot(x='MPAA_film_rating',data=movies)"
   ]
  },
  {
   "cell_type": "markdown",
   "id": "18a6d2b2",
   "metadata": {},
   "source": [
    "#                         ---------------Treat Outliers---------------"
   ]
  },
  {
   "cell_type": "code",
   "execution_count": 12,
   "id": "8cbab00a",
   "metadata": {},
   "outputs": [
    {
     "data": {
      "text/plain": [
       "array([472.15222])"
      ]
     },
     "execution_count": 12,
     "metadata": {},
     "output_type": "execute_result"
    }
   ],
   "source": [
    "np.percentile(movies.Marketin_expense,[99])"
   ]
  },
  {
   "cell_type": "markdown",
   "id": "f1b933d8",
   "metadata": {},
   "source": [
    "# Treating Marketin_expense----------->max"
   ]
  },
  {
   "cell_type": "code",
   "execution_count": 13,
   "id": "95304f01",
   "metadata": {},
   "outputs": [],
   "source": [
    "uv1=np.percentile(movies.Marketin_expense,[99])[0]\n",
    "#### here up1 me 472.15222 value stored hai"
   ]
  },
  {
   "cell_type": "code",
   "execution_count": 14,
   "id": "a3b3cef7",
   "metadata": {},
   "outputs": [
    {
     "data": {
      "text/html": [
       "<div>\n",
       "<style scoped>\n",
       "    .dataframe tbody tr th:only-of-type {\n",
       "        vertical-align: middle;\n",
       "    }\n",
       "\n",
       "    .dataframe tbody tr th {\n",
       "        vertical-align: top;\n",
       "    }\n",
       "\n",
       "    .dataframe thead th {\n",
       "        text-align: right;\n",
       "    }\n",
       "</style>\n",
       "<table border=\"1\" class=\"dataframe\">\n",
       "  <thead>\n",
       "    <tr style=\"text-align: right;\">\n",
       "      <th></th>\n",
       "      <th>Collection</th>\n",
       "      <th>Marketin_expense</th>\n",
       "      <th>Production_expense</th>\n",
       "      <th>Multiplex_coverage</th>\n",
       "      <th>Budget</th>\n",
       "      <th>Movie_length</th>\n",
       "      <th>Lead_ Actor_Rating</th>\n",
       "      <th>Lead_Actress_rating</th>\n",
       "      <th>Director_rating</th>\n",
       "      <th>Producer_rating</th>\n",
       "      <th>Critic_rating</th>\n",
       "      <th>Trailer_views</th>\n",
       "      <th>Time_taken</th>\n",
       "      <th>Twitter_hastags</th>\n",
       "      <th>Genre</th>\n",
       "      <th>Avg_age_actors</th>\n",
       "      <th>MPAA_film_rating</th>\n",
       "      <th>Num_multiplex</th>\n",
       "      <th>3D_available</th>\n",
       "    </tr>\n",
       "  </thead>\n",
       "  <tbody>\n",
       "    <tr>\n",
       "      <th>378</th>\n",
       "      <td>26200</td>\n",
       "      <td>492.964</td>\n",
       "      <td>91.2</td>\n",
       "      <td>0.329</td>\n",
       "      <td>35440.900</td>\n",
       "      <td>169.7</td>\n",
       "      <td>9.240</td>\n",
       "      <td>9.39</td>\n",
       "      <td>9.235</td>\n",
       "      <td>9.365</td>\n",
       "      <td>6.96</td>\n",
       "      <td>359760</td>\n",
       "      <td>185.24</td>\n",
       "      <td>282.096</td>\n",
       "      <td>Drama</td>\n",
       "      <td>54</td>\n",
       "      <td>PG</td>\n",
       "      <td>632</td>\n",
       "      <td>YES</td>\n",
       "    </tr>\n",
       "    <tr>\n",
       "      <th>380</th>\n",
       "      <td>20800</td>\n",
       "      <td>1799.524</td>\n",
       "      <td>91.2</td>\n",
       "      <td>0.329</td>\n",
       "      <td>38707.240</td>\n",
       "      <td>165.4</td>\n",
       "      <td>9.170</td>\n",
       "      <td>9.43</td>\n",
       "      <td>9.155</td>\n",
       "      <td>9.410</td>\n",
       "      <td>6.96</td>\n",
       "      <td>417588</td>\n",
       "      <td>188.16</td>\n",
       "      <td>281.664</td>\n",
       "      <td>Comedy</td>\n",
       "      <td>21</td>\n",
       "      <td>PG</td>\n",
       "      <td>666</td>\n",
       "      <td>YES</td>\n",
       "    </tr>\n",
       "    <tr>\n",
       "      <th>386</th>\n",
       "      <td>21000</td>\n",
       "      <td>507.876</td>\n",
       "      <td>91.2</td>\n",
       "      <td>0.300</td>\n",
       "      <td>25841.860</td>\n",
       "      <td>173.5</td>\n",
       "      <td>9.145</td>\n",
       "      <td>9.32</td>\n",
       "      <td>9.140</td>\n",
       "      <td>9.460</td>\n",
       "      <td>7.96</td>\n",
       "      <td>291349</td>\n",
       "      <td>154.20</td>\n",
       "      <td>301.680</td>\n",
       "      <td>Thriller</td>\n",
       "      <td>34</td>\n",
       "      <td>PG</td>\n",
       "      <td>597</td>\n",
       "      <td>YES</td>\n",
       "    </tr>\n",
       "    <tr>\n",
       "      <th>398</th>\n",
       "      <td>10000</td>\n",
       "      <td>787.036</td>\n",
       "      <td>91.2</td>\n",
       "      <td>0.307</td>\n",
       "      <td>30291.415</td>\n",
       "      <td>173.5</td>\n",
       "      <td>9.215</td>\n",
       "      <td>9.37</td>\n",
       "      <td>9.105</td>\n",
       "      <td>9.330</td>\n",
       "      <td>6.96</td>\n",
       "      <td>291101</td>\n",
       "      <td>186.00</td>\n",
       "      <td>260.800</td>\n",
       "      <td>Drama</td>\n",
       "      <td>26</td>\n",
       "      <td>PG</td>\n",
       "      <td>653</td>\n",
       "      <td>NO</td>\n",
       "    </tr>\n",
       "  </tbody>\n",
       "</table>\n",
       "</div>"
      ],
      "text/plain": [
       "     Collection  Marketin_expense  Production_expense  Multiplex_coverage  \\\n",
       "378       26200           492.964                91.2               0.329   \n",
       "380       20800          1799.524                91.2               0.329   \n",
       "386       21000           507.876                91.2               0.300   \n",
       "398       10000           787.036                91.2               0.307   \n",
       "\n",
       "        Budget  Movie_length  Lead_ Actor_Rating  Lead_Actress_rating  \\\n",
       "378  35440.900         169.7               9.240                 9.39   \n",
       "380  38707.240         165.4               9.170                 9.43   \n",
       "386  25841.860         173.5               9.145                 9.32   \n",
       "398  30291.415         173.5               9.215                 9.37   \n",
       "\n",
       "     Director_rating  Producer_rating  Critic_rating  Trailer_views  \\\n",
       "378            9.235            9.365           6.96         359760   \n",
       "380            9.155            9.410           6.96         417588   \n",
       "386            9.140            9.460           7.96         291349   \n",
       "398            9.105            9.330           6.96         291101   \n",
       "\n",
       "     Time_taken  Twitter_hastags     Genre  Avg_age_actors MPAA_film_rating  \\\n",
       "378      185.24          282.096     Drama              54               PG   \n",
       "380      188.16          281.664    Comedy              21               PG   \n",
       "386      154.20          301.680  Thriller              34               PG   \n",
       "398      186.00          260.800     Drama              26               PG   \n",
       "\n",
       "     Num_multiplex 3D_available  \n",
       "378            632          YES  \n",
       "380            666          YES  \n",
       "386            597          YES  \n",
       "398            653           NO  "
      ]
     },
     "execution_count": 14,
     "metadata": {},
     "output_type": "execute_result"
    }
   ],
   "source": [
    "movies[(movies.Marketin_expense>uv1)]"
   ]
  },
  {
   "cell_type": "code",
   "execution_count": 15,
   "id": "ec060f9e",
   "metadata": {},
   "outputs": [
    {
     "name": "stderr",
     "output_type": "stream",
     "text": [
      "<ipython-input-15-45d2a188e058>:1: SettingWithCopyWarning: \n",
      "A value is trying to be set on a copy of a slice from a DataFrame\n",
      "\n",
      "See the caveats in the documentation: https://pandas.pydata.org/pandas-docs/stable/user_guide/indexing.html#returning-a-view-versus-a-copy\n",
      "  movies.Marketin_expense[(movies.Marketin_expense>uv1*3)]=uv1*3\n"
     ]
    }
   ],
   "source": [
    "movies.Marketin_expense[(movies.Marketin_expense>uv1*3)]=uv1*3"
   ]
  },
  {
   "cell_type": "code",
   "execution_count": 16,
   "id": "b780bedb",
   "metadata": {},
   "outputs": [
    {
     "data": {
      "text/html": [
       "<div>\n",
       "<style scoped>\n",
       "    .dataframe tbody tr th:only-of-type {\n",
       "        vertical-align: middle;\n",
       "    }\n",
       "\n",
       "    .dataframe tbody tr th {\n",
       "        vertical-align: top;\n",
       "    }\n",
       "\n",
       "    .dataframe thead th {\n",
       "        text-align: right;\n",
       "    }\n",
       "</style>\n",
       "<table border=\"1\" class=\"dataframe\">\n",
       "  <thead>\n",
       "    <tr style=\"text-align: right;\">\n",
       "      <th></th>\n",
       "      <th>Collection</th>\n",
       "      <th>Marketin_expense</th>\n",
       "      <th>Production_expense</th>\n",
       "      <th>Multiplex_coverage</th>\n",
       "      <th>Budget</th>\n",
       "      <th>Movie_length</th>\n",
       "      <th>Lead_ Actor_Rating</th>\n",
       "      <th>Lead_Actress_rating</th>\n",
       "      <th>Director_rating</th>\n",
       "      <th>Producer_rating</th>\n",
       "      <th>Critic_rating</th>\n",
       "      <th>Trailer_views</th>\n",
       "      <th>Time_taken</th>\n",
       "      <th>Twitter_hastags</th>\n",
       "      <th>Genre</th>\n",
       "      <th>Avg_age_actors</th>\n",
       "      <th>MPAA_film_rating</th>\n",
       "      <th>Num_multiplex</th>\n",
       "      <th>3D_available</th>\n",
       "    </tr>\n",
       "  </thead>\n",
       "  <tbody>\n",
       "    <tr>\n",
       "      <th>378</th>\n",
       "      <td>26200</td>\n",
       "      <td>492.96400</td>\n",
       "      <td>91.2</td>\n",
       "      <td>0.329</td>\n",
       "      <td>35440.900</td>\n",
       "      <td>169.7</td>\n",
       "      <td>9.240</td>\n",
       "      <td>9.39</td>\n",
       "      <td>9.235</td>\n",
       "      <td>9.365</td>\n",
       "      <td>6.96</td>\n",
       "      <td>359760</td>\n",
       "      <td>185.24</td>\n",
       "      <td>282.096</td>\n",
       "      <td>Drama</td>\n",
       "      <td>54</td>\n",
       "      <td>PG</td>\n",
       "      <td>632</td>\n",
       "      <td>YES</td>\n",
       "    </tr>\n",
       "    <tr>\n",
       "      <th>380</th>\n",
       "      <td>20800</td>\n",
       "      <td>1416.45666</td>\n",
       "      <td>91.2</td>\n",
       "      <td>0.329</td>\n",
       "      <td>38707.240</td>\n",
       "      <td>165.4</td>\n",
       "      <td>9.170</td>\n",
       "      <td>9.43</td>\n",
       "      <td>9.155</td>\n",
       "      <td>9.410</td>\n",
       "      <td>6.96</td>\n",
       "      <td>417588</td>\n",
       "      <td>188.16</td>\n",
       "      <td>281.664</td>\n",
       "      <td>Comedy</td>\n",
       "      <td>21</td>\n",
       "      <td>PG</td>\n",
       "      <td>666</td>\n",
       "      <td>YES</td>\n",
       "    </tr>\n",
       "    <tr>\n",
       "      <th>386</th>\n",
       "      <td>21000</td>\n",
       "      <td>507.87600</td>\n",
       "      <td>91.2</td>\n",
       "      <td>0.300</td>\n",
       "      <td>25841.860</td>\n",
       "      <td>173.5</td>\n",
       "      <td>9.145</td>\n",
       "      <td>9.32</td>\n",
       "      <td>9.140</td>\n",
       "      <td>9.460</td>\n",
       "      <td>7.96</td>\n",
       "      <td>291349</td>\n",
       "      <td>154.20</td>\n",
       "      <td>301.680</td>\n",
       "      <td>Thriller</td>\n",
       "      <td>34</td>\n",
       "      <td>PG</td>\n",
       "      <td>597</td>\n",
       "      <td>YES</td>\n",
       "    </tr>\n",
       "    <tr>\n",
       "      <th>398</th>\n",
       "      <td>10000</td>\n",
       "      <td>787.03600</td>\n",
       "      <td>91.2</td>\n",
       "      <td>0.307</td>\n",
       "      <td>30291.415</td>\n",
       "      <td>173.5</td>\n",
       "      <td>9.215</td>\n",
       "      <td>9.37</td>\n",
       "      <td>9.105</td>\n",
       "      <td>9.330</td>\n",
       "      <td>6.96</td>\n",
       "      <td>291101</td>\n",
       "      <td>186.00</td>\n",
       "      <td>260.800</td>\n",
       "      <td>Drama</td>\n",
       "      <td>26</td>\n",
       "      <td>PG</td>\n",
       "      <td>653</td>\n",
       "      <td>NO</td>\n",
       "    </tr>\n",
       "  </tbody>\n",
       "</table>\n",
       "</div>"
      ],
      "text/plain": [
       "     Collection  Marketin_expense  Production_expense  Multiplex_coverage  \\\n",
       "378       26200         492.96400                91.2               0.329   \n",
       "380       20800        1416.45666                91.2               0.329   \n",
       "386       21000         507.87600                91.2               0.300   \n",
       "398       10000         787.03600                91.2               0.307   \n",
       "\n",
       "        Budget  Movie_length  Lead_ Actor_Rating  Lead_Actress_rating  \\\n",
       "378  35440.900         169.7               9.240                 9.39   \n",
       "380  38707.240         165.4               9.170                 9.43   \n",
       "386  25841.860         173.5               9.145                 9.32   \n",
       "398  30291.415         173.5               9.215                 9.37   \n",
       "\n",
       "     Director_rating  Producer_rating  Critic_rating  Trailer_views  \\\n",
       "378            9.235            9.365           6.96         359760   \n",
       "380            9.155            9.410           6.96         417588   \n",
       "386            9.140            9.460           7.96         291349   \n",
       "398            9.105            9.330           6.96         291101   \n",
       "\n",
       "     Time_taken  Twitter_hastags     Genre  Avg_age_actors MPAA_film_rating  \\\n",
       "378      185.24          282.096     Drama              54               PG   \n",
       "380      188.16          281.664    Comedy              21               PG   \n",
       "386      154.20          301.680  Thriller              34               PG   \n",
       "398      186.00          260.800     Drama              26               PG   \n",
       "\n",
       "     Num_multiplex 3D_available  \n",
       "378            632          YES  \n",
       "380            666          YES  \n",
       "386            597          YES  \n",
       "398            653           NO  "
      ]
     },
     "execution_count": 16,
     "metadata": {},
     "output_type": "execute_result"
    }
   ],
   "source": [
    "movies[movies.Marketin_expense>uv1]"
   ]
  },
  {
   "cell_type": "markdown",
   "id": "fff2b547",
   "metadata": {},
   "source": [
    "## treating Twitter_hastags----------------->max"
   ]
  },
  {
   "cell_type": "code",
   "execution_count": 17,
   "id": "e3148a77",
   "metadata": {},
   "outputs": [
    {
     "data": {
      "text/plain": [
       "308.0"
      ]
     },
     "execution_count": 17,
     "metadata": {},
     "output_type": "execute_result"
    }
   ],
   "source": [
    "np.percentile(movies.Twitter_hastags,[99])[0]"
   ]
  },
  {
   "cell_type": "code",
   "execution_count": 18,
   "id": "56fd7779",
   "metadata": {},
   "outputs": [],
   "source": [
    "uv2=np.percentile(movies.Twitter_hastags,[99])[0]"
   ]
  },
  {
   "cell_type": "code",
   "execution_count": 19,
   "id": "200d9a56",
   "metadata": {},
   "outputs": [
    {
     "data": {
      "text/html": [
       "<div>\n",
       "<style scoped>\n",
       "    .dataframe tbody tr th:only-of-type {\n",
       "        vertical-align: middle;\n",
       "    }\n",
       "\n",
       "    .dataframe tbody tr th {\n",
       "        vertical-align: top;\n",
       "    }\n",
       "\n",
       "    .dataframe thead th {\n",
       "        text-align: right;\n",
       "    }\n",
       "</style>\n",
       "<table border=\"1\" class=\"dataframe\">\n",
       "  <thead>\n",
       "    <tr style=\"text-align: right;\">\n",
       "      <th></th>\n",
       "      <th>Collection</th>\n",
       "      <th>Marketin_expense</th>\n",
       "      <th>Production_expense</th>\n",
       "      <th>Multiplex_coverage</th>\n",
       "      <th>Budget</th>\n",
       "      <th>Movie_length</th>\n",
       "      <th>Lead_ Actor_Rating</th>\n",
       "      <th>Lead_Actress_rating</th>\n",
       "      <th>Director_rating</th>\n",
       "      <th>Producer_rating</th>\n",
       "      <th>Critic_rating</th>\n",
       "      <th>Trailer_views</th>\n",
       "      <th>Time_taken</th>\n",
       "      <th>Twitter_hastags</th>\n",
       "      <th>Genre</th>\n",
       "      <th>Avg_age_actors</th>\n",
       "      <th>MPAA_film_rating</th>\n",
       "      <th>Num_multiplex</th>\n",
       "      <th>3D_available</th>\n",
       "    </tr>\n",
       "  </thead>\n",
       "  <tbody>\n",
       "    <tr>\n",
       "      <th>2</th>\n",
       "      <td>69400</td>\n",
       "      <td>20.5458</td>\n",
       "      <td>69.14</td>\n",
       "      <td>0.531</td>\n",
       "      <td>39912.675</td>\n",
       "      <td>134.6</td>\n",
       "      <td>7.485</td>\n",
       "      <td>7.57</td>\n",
       "      <td>7.495</td>\n",
       "      <td>7.515</td>\n",
       "      <td>7.44</td>\n",
       "      <td>547051</td>\n",
       "      <td>147.88</td>\n",
       "      <td>2022.4</td>\n",
       "      <td>Comedy</td>\n",
       "      <td>38</td>\n",
       "      <td>PG</td>\n",
       "      <td>458</td>\n",
       "      <td>NO</td>\n",
       "    </tr>\n",
       "  </tbody>\n",
       "</table>\n",
       "</div>"
      ],
      "text/plain": [
       "   Collection  Marketin_expense  Production_expense  Multiplex_coverage  \\\n",
       "2       69400           20.5458               69.14               0.531   \n",
       "\n",
       "      Budget  Movie_length  Lead_ Actor_Rating  Lead_Actress_rating  \\\n",
       "2  39912.675         134.6               7.485                 7.57   \n",
       "\n",
       "   Director_rating  Producer_rating  Critic_rating  Trailer_views  Time_taken  \\\n",
       "2            7.495            7.515           7.44         547051      147.88   \n",
       "\n",
       "   Twitter_hastags   Genre  Avg_age_actors MPAA_film_rating  Num_multiplex  \\\n",
       "2           2022.4  Comedy              38               PG            458   \n",
       "\n",
       "  3D_available  \n",
       "2           NO  "
      ]
     },
     "execution_count": 19,
     "metadata": {},
     "output_type": "execute_result"
    }
   ],
   "source": [
    "movies[(movies.Twitter_hastags>uv2)]"
   ]
  },
  {
   "cell_type": "code",
   "execution_count": 20,
   "id": "51995000",
   "metadata": {},
   "outputs": [
    {
     "name": "stderr",
     "output_type": "stream",
     "text": [
      "<ipython-input-20-6b5a4f5e2c1f>:1: SettingWithCopyWarning: \n",
      "A value is trying to be set on a copy of a slice from a DataFrame\n",
      "\n",
      "See the caveats in the documentation: https://pandas.pydata.org/pandas-docs/stable/user_guide/indexing.html#returning-a-view-versus-a-copy\n",
      "  movies.Twitter_hastags[(movies.Twitter_hastags>uv2*3)]=uv2*2\n"
     ]
    }
   ],
   "source": [
    "movies.Twitter_hastags[(movies.Twitter_hastags>uv2*3)]=uv2*2"
   ]
  },
  {
   "cell_type": "code",
   "execution_count": 21,
   "id": "934d45a6",
   "metadata": {},
   "outputs": [
    {
     "data": {
      "text/html": [
       "<div>\n",
       "<style scoped>\n",
       "    .dataframe tbody tr th:only-of-type {\n",
       "        vertical-align: middle;\n",
       "    }\n",
       "\n",
       "    .dataframe tbody tr th {\n",
       "        vertical-align: top;\n",
       "    }\n",
       "\n",
       "    .dataframe thead th {\n",
       "        text-align: right;\n",
       "    }\n",
       "</style>\n",
       "<table border=\"1\" class=\"dataframe\">\n",
       "  <thead>\n",
       "    <tr style=\"text-align: right;\">\n",
       "      <th></th>\n",
       "      <th>Collection</th>\n",
       "      <th>Marketin_expense</th>\n",
       "      <th>Production_expense</th>\n",
       "      <th>Multiplex_coverage</th>\n",
       "      <th>Budget</th>\n",
       "      <th>Movie_length</th>\n",
       "      <th>Lead_ Actor_Rating</th>\n",
       "      <th>Lead_Actress_rating</th>\n",
       "      <th>Director_rating</th>\n",
       "      <th>Producer_rating</th>\n",
       "      <th>Critic_rating</th>\n",
       "      <th>Trailer_views</th>\n",
       "      <th>Time_taken</th>\n",
       "      <th>Twitter_hastags</th>\n",
       "      <th>Genre</th>\n",
       "      <th>Avg_age_actors</th>\n",
       "      <th>MPAA_film_rating</th>\n",
       "      <th>Num_multiplex</th>\n",
       "      <th>3D_available</th>\n",
       "    </tr>\n",
       "  </thead>\n",
       "  <tbody>\n",
       "    <tr>\n",
       "      <th>2</th>\n",
       "      <td>69400</td>\n",
       "      <td>20.5458</td>\n",
       "      <td>69.14</td>\n",
       "      <td>0.531</td>\n",
       "      <td>39912.675</td>\n",
       "      <td>134.6</td>\n",
       "      <td>7.485</td>\n",
       "      <td>7.57</td>\n",
       "      <td>7.495</td>\n",
       "      <td>7.515</td>\n",
       "      <td>7.44</td>\n",
       "      <td>547051</td>\n",
       "      <td>147.88</td>\n",
       "      <td>616.0</td>\n",
       "      <td>Comedy</td>\n",
       "      <td>38</td>\n",
       "      <td>PG</td>\n",
       "      <td>458</td>\n",
       "      <td>NO</td>\n",
       "    </tr>\n",
       "  </tbody>\n",
       "</table>\n",
       "</div>"
      ],
      "text/plain": [
       "   Collection  Marketin_expense  Production_expense  Multiplex_coverage  \\\n",
       "2       69400           20.5458               69.14               0.531   \n",
       "\n",
       "      Budget  Movie_length  Lead_ Actor_Rating  Lead_Actress_rating  \\\n",
       "2  39912.675         134.6               7.485                 7.57   \n",
       "\n",
       "   Director_rating  Producer_rating  Critic_rating  Trailer_views  Time_taken  \\\n",
       "2            7.495            7.515           7.44         547051      147.88   \n",
       "\n",
       "   Twitter_hastags   Genre  Avg_age_actors MPAA_film_rating  Num_multiplex  \\\n",
       "2            616.0  Comedy              38               PG            458   \n",
       "\n",
       "  3D_available  \n",
       "2           NO  "
      ]
     },
     "execution_count": 21,
     "metadata": {},
     "output_type": "execute_result"
    }
   ],
   "source": [
    "movies[movies.Twitter_hastags>uv2]"
   ]
  },
  {
   "cell_type": "code",
   "execution_count": 22,
   "id": "1c0ba1b0",
   "metadata": {},
   "outputs": [
    {
     "data": {
      "text/plain": [
       "<seaborn.axisgrid.JointGrid at 0x25c6653cbb0>"
      ]
     },
     "execution_count": 22,
     "metadata": {},
     "output_type": "execute_result"
    },
    {
     "data": {
      "image/png": "[encoded data removed]",
      "text/plain": [
       "<Figure size 288x288 with 3 Axes>"
      ]
     },
     "metadata": {
      "needs_background": "light"
     },
     "output_type": "display_data"
    }
   ],
   "source": [
    "sns.jointplot(x='Collection',y='Twitter_hastags',data=movies,height=4)"
   ]
  },
  {
   "cell_type": "markdown",
   "id": "7ebc5872",
   "metadata": {},
   "source": [
    "# ------------- Treating MINIMUM outliers"
   ]
  },
  {
   "cell_type": "raw",
   "id": "188b63be",
   "metadata": {},
   "source": [
    "# Time_taken & Avg_age_actors-------->(MIN)"
   ]
  },
  {
   "cell_type": "markdown",
   "id": "58daf1d3",
   "metadata": {},
   "source": [
    "# treating Time_taken---------> min"
   ]
  },
  {
   "cell_type": "code",
   "execution_count": 23,
   "id": "e8d00c99",
   "metadata": {},
   "outputs": [
    {
     "data": {
      "text/plain": [
       "<seaborn.axisgrid.JointGrid at 0x25c664c1370>"
      ]
     },
     "execution_count": 23,
     "metadata": {},
     "output_type": "execute_result"
    },
    {
     "data": {
      "image/png": "[encoded data removed]",
      "text/plain": [
       "<Figure size 288x288 with 3 Axes>"
      ]
     },
     "metadata": {
      "needs_background": "light"
     },
     "output_type": "display_data"
    }
   ],
   "source": [
    "sns.jointplot(x='Collection',y='Time_taken',height=4,data=movies)"
   ]
  },
  {
   "cell_type": "code",
   "execution_count": 24,
   "id": "50c55854",
   "metadata": {},
   "outputs": [
    {
     "data": {
      "text/html": [
       "<div>\n",
       "<style scoped>\n",
       "    .dataframe tbody tr th:only-of-type {\n",
       "        vertical-align: middle;\n",
       "    }\n",
       "\n",
       "    .dataframe tbody tr th {\n",
       "        vertical-align: top;\n",
       "    }\n",
       "\n",
       "    .dataframe thead th {\n",
       "        text-align: right;\n",
       "    }\n",
       "</style>\n",
       "<table border=\"1\" class=\"dataframe\">\n",
       "  <thead>\n",
       "    <tr style=\"text-align: right;\">\n",
       "      <th></th>\n",
       "      <th>Collection</th>\n",
       "      <th>Marketin_expense</th>\n",
       "      <th>Production_expense</th>\n",
       "      <th>Multiplex_coverage</th>\n",
       "      <th>Budget</th>\n",
       "      <th>Movie_length</th>\n",
       "      <th>Lead_ Actor_Rating</th>\n",
       "      <th>Lead_Actress_rating</th>\n",
       "      <th>Director_rating</th>\n",
       "      <th>Producer_rating</th>\n",
       "      <th>Critic_rating</th>\n",
       "      <th>Trailer_views</th>\n",
       "      <th>Time_taken</th>\n",
       "      <th>Twitter_hastags</th>\n",
       "      <th>Genre</th>\n",
       "      <th>Avg_age_actors</th>\n",
       "      <th>MPAA_film_rating</th>\n",
       "      <th>Num_multiplex</th>\n",
       "      <th>3D_available</th>\n",
       "    </tr>\n",
       "  </thead>\n",
       "  <tbody>\n",
       "    <tr>\n",
       "      <th>50</th>\n",
       "      <td>39400</td>\n",
       "      <td>21.7746</td>\n",
       "      <td>66.28</td>\n",
       "      <td>0.561</td>\n",
       "      <td>33124.465</td>\n",
       "      <td>119.2</td>\n",
       "      <td>6.460</td>\n",
       "      <td>6.725</td>\n",
       "      <td>6.50</td>\n",
       "      <td>6.685</td>\n",
       "      <td>7.64</td>\n",
       "      <td>442225</td>\n",
       "      <td>0.0</td>\n",
       "      <td>223.152</td>\n",
       "      <td>Thriller</td>\n",
       "      <td>21</td>\n",
       "      <td>PG</td>\n",
       "      <td>404</td>\n",
       "      <td>YES</td>\n",
       "    </tr>\n",
       "    <tr>\n",
       "      <th>112</th>\n",
       "      <td>37600</td>\n",
       "      <td>22.4658</td>\n",
       "      <td>75.02</td>\n",
       "      <td>0.453</td>\n",
       "      <td>32846.715</td>\n",
       "      <td>166.4</td>\n",
       "      <td>8.725</td>\n",
       "      <td>8.885</td>\n",
       "      <td>8.72</td>\n",
       "      <td>8.965</td>\n",
       "      <td>7.44</td>\n",
       "      <td>394329</td>\n",
       "      <td>0.0</td>\n",
       "      <td>303.008</td>\n",
       "      <td>Thriller</td>\n",
       "      <td>35</td>\n",
       "      <td>PG</td>\n",
       "      <td>577</td>\n",
       "      <td>YES</td>\n",
       "    </tr>\n",
       "  </tbody>\n",
       "</table>\n",
       "</div>"
      ],
      "text/plain": [
       "     Collection  Marketin_expense  Production_expense  Multiplex_coverage  \\\n",
       "50        39400           21.7746               66.28               0.561   \n",
       "112       37600           22.4658               75.02               0.453   \n",
       "\n",
       "        Budget  Movie_length  Lead_ Actor_Rating  Lead_Actress_rating  \\\n",
       "50   33124.465         119.2               6.460                6.725   \n",
       "112  32846.715         166.4               8.725                8.885   \n",
       "\n",
       "     Director_rating  Producer_rating  Critic_rating  Trailer_views  \\\n",
       "50              6.50            6.685           7.64         442225   \n",
       "112             8.72            8.965           7.44         394329   \n",
       "\n",
       "     Time_taken  Twitter_hastags     Genre  Avg_age_actors MPAA_film_rating  \\\n",
       "50          0.0          223.152  Thriller              21               PG   \n",
       "112         0.0          303.008  Thriller              35               PG   \n",
       "\n",
       "     Num_multiplex 3D_available  \n",
       "50             404          YES  \n",
       "112            577          YES  "
      ]
     },
     "execution_count": 24,
     "metadata": {},
     "output_type": "execute_result"
    }
   ],
   "source": [
    "movies[(movies.Time_taken<100)]"
   ]
  },
  {
   "cell_type": "code",
   "execution_count": 25,
   "id": "3da13d84",
   "metadata": {},
   "outputs": [],
   "source": [
    "lv1=np.mean(movies.Time_taken)"
   ]
  },
  {
   "cell_type": "code",
   "execution_count": 26,
   "id": "34d2930b",
   "metadata": {},
   "outputs": [
    {
     "name": "stderr",
     "output_type": "stream",
     "text": [
      "<ipython-input-26-408c1aaa1eb2>:1: SettingWithCopyWarning: \n",
      "A value is trying to be set on a copy of a slice from a DataFrame\n",
      "\n",
      "See the caveats in the documentation: https://pandas.pydata.org/pandas-docs/stable/user_guide/indexing.html#returning-a-view-versus-a-copy\n",
      "  movies.Time_taken[(movies.Time_taken<50)]=lv1\n"
     ]
    }
   ],
   "source": [
    "movies.Time_taken[(movies.Time_taken<50)]=lv1"
   ]
  },
  {
   "cell_type": "markdown",
   "id": "52c5df8b",
   "metadata": {},
   "source": [
    "# treating    Avg_age_actors-----------> min"
   ]
  },
  {
   "cell_type": "code",
   "execution_count": 27,
   "id": "b42e6e1e",
   "metadata": {},
   "outputs": [
    {
     "data": {
      "text/plain": [
       "<seaborn.axisgrid.JointGrid at 0x25c667d5850>"
      ]
     },
     "execution_count": 27,
     "metadata": {},
     "output_type": "execute_result"
    },
    {
     "data": {
      "image/png": "[encoded data removed]",
      "text/plain": [
       "<Figure size 288x288 with 3 Axes>"
      ]
     },
     "metadata": {
      "needs_background": "light"
     },
     "output_type": "display_data"
    }
   ],
   "source": [
    "sns.jointplot(x='Collection',y='Avg_age_actors',data=movies,height=4)"
   ]
  },
  {
   "cell_type": "code",
   "execution_count": 28,
   "id": "cbdc1391",
   "metadata": {},
   "outputs": [
    {
     "data": {
      "text/plain": [
       "20.0"
      ]
     },
     "execution_count": 28,
     "metadata": {},
     "output_type": "execute_result"
    }
   ],
   "source": [
    "np.percentile(movies.Avg_age_actors,[1])[0]"
   ]
  },
  {
   "cell_type": "code",
   "execution_count": 29,
   "id": "fe2e4342",
   "metadata": {},
   "outputs": [],
   "source": [
    "lv2=np.percentile(movies.Avg_age_actors,[1])[0]"
   ]
  },
  {
   "cell_type": "code",
   "execution_count": 30,
   "id": "0956d0a2",
   "metadata": {},
   "outputs": [
    {
     "data": {
      "text/html": [
       "<div>\n",
       "<style scoped>\n",
       "    .dataframe tbody tr th:only-of-type {\n",
       "        vertical-align: middle;\n",
       "    }\n",
       "\n",
       "    .dataframe tbody tr th {\n",
       "        vertical-align: top;\n",
       "    }\n",
       "\n",
       "    .dataframe thead th {\n",
       "        text-align: right;\n",
       "    }\n",
       "</style>\n",
       "<table border=\"1\" class=\"dataframe\">\n",
       "  <thead>\n",
       "    <tr style=\"text-align: right;\">\n",
       "      <th></th>\n",
       "      <th>Collection</th>\n",
       "      <th>Marketin_expense</th>\n",
       "      <th>Production_expense</th>\n",
       "      <th>Multiplex_coverage</th>\n",
       "      <th>Budget</th>\n",
       "      <th>Movie_length</th>\n",
       "      <th>Lead_ Actor_Rating</th>\n",
       "      <th>Lead_Actress_rating</th>\n",
       "      <th>Director_rating</th>\n",
       "      <th>Producer_rating</th>\n",
       "      <th>Critic_rating</th>\n",
       "      <th>Trailer_views</th>\n",
       "      <th>Time_taken</th>\n",
       "      <th>Twitter_hastags</th>\n",
       "      <th>Genre</th>\n",
       "      <th>Avg_age_actors</th>\n",
       "      <th>MPAA_film_rating</th>\n",
       "      <th>Num_multiplex</th>\n",
       "      <th>3D_available</th>\n",
       "    </tr>\n",
       "  </thead>\n",
       "  <tbody>\n",
       "    <tr>\n",
       "      <th>213</th>\n",
       "      <td>56200</td>\n",
       "      <td>22.8104</td>\n",
       "      <td>76.18</td>\n",
       "      <td>0.511</td>\n",
       "      <td>35413.125</td>\n",
       "      <td>105.8</td>\n",
       "      <td>7.945</td>\n",
       "      <td>8.04</td>\n",
       "      <td>7.91</td>\n",
       "      <td>8.215</td>\n",
       "      <td>7.28</td>\n",
       "      <td>504226</td>\n",
       "      <td>151.24</td>\n",
       "      <td>204.496</td>\n",
       "      <td>Comedy</td>\n",
       "      <td>3</td>\n",
       "      <td>PG</td>\n",
       "      <td>441</td>\n",
       "      <td>YES</td>\n",
       "    </tr>\n",
       "  </tbody>\n",
       "</table>\n",
       "</div>"
      ],
      "text/plain": [
       "     Collection  Marketin_expense  Production_expense  Multiplex_coverage  \\\n",
       "213       56200           22.8104               76.18               0.511   \n",
       "\n",
       "        Budget  Movie_length  Lead_ Actor_Rating  Lead_Actress_rating  \\\n",
       "213  35413.125         105.8               7.945                 8.04   \n",
       "\n",
       "     Director_rating  Producer_rating  Critic_rating  Trailer_views  \\\n",
       "213             7.91            8.215           7.28         504226   \n",
       "\n",
       "     Time_taken  Twitter_hastags   Genre  Avg_age_actors MPAA_film_rating  \\\n",
       "213      151.24          204.496  Comedy               3               PG   \n",
       "\n",
       "     Num_multiplex 3D_available  \n",
       "213            441          YES  "
      ]
     },
     "execution_count": 30,
     "metadata": {},
     "output_type": "execute_result"
    }
   ],
   "source": [
    "movies[movies.Avg_age_actors<lv2]"
   ]
  },
  {
   "cell_type": "code",
   "execution_count": 31,
   "id": "5dc80585",
   "metadata": {},
   "outputs": [
    {
     "name": "stderr",
     "output_type": "stream",
     "text": [
      "<ipython-input-31-69417c79169e>:1: SettingWithCopyWarning: \n",
      "A value is trying to be set on a copy of a slice from a DataFrame\n",
      "\n",
      "See the caveats in the documentation: https://pandas.pydata.org/pandas-docs/stable/user_guide/indexing.html#returning-a-view-versus-a-copy\n",
      "  movies.Avg_age_actors[(movies.Avg_age_actors<lv2*0.3)]=lv2*0.3\n"
     ]
    }
   ],
   "source": [
    "movies.Avg_age_actors[(movies.Avg_age_actors<lv2*0.3)]=lv2*0.3"
   ]
  },
  {
   "cell_type": "code",
   "execution_count": 32,
   "id": "999d9413",
   "metadata": {},
   "outputs": [
    {
     "name": "stdout",
     "output_type": "stream",
     "text": [
      "<class 'pandas.core.frame.DataFrame'>\n",
      "RangeIndex: 400 entries, 0 to 399\n",
      "Data columns (total 19 columns):\n",
      " #   Column               Non-Null Count  Dtype  \n",
      "---  ------               --------------  -----  \n",
      " 0   Collection           400 non-null    int64  \n",
      " 1   Marketin_expense     400 non-null    float64\n",
      " 2   Production_expense   400 non-null    float64\n",
      " 3   Multiplex_coverage   400 non-null    float64\n",
      " 4   Budget               400 non-null    float64\n",
      " 5   Movie_length         400 non-null    float64\n",
      " 6   Lead_ Actor_Rating   400 non-null    float64\n",
      " 7   Lead_Actress_rating  400 non-null    float64\n",
      " 8   Director_rating      400 non-null    float64\n",
      " 9   Producer_rating      400 non-null    float64\n",
      " 10  Critic_rating        400 non-null    float64\n",
      " 11  Trailer_views        400 non-null    int64  \n",
      " 12  Time_taken           392 non-null    float64\n",
      " 13  Twitter_hastags      400 non-null    float64\n",
      " 14  Genre                400 non-null    object \n",
      " 15  Avg_age_actors       400 non-null    int64  \n",
      " 16  MPAA_film_rating     400 non-null    object \n",
      " 17  Num_multiplex        400 non-null    int64  \n",
      " 18  3D_available         400 non-null    object \n",
      "dtypes: float64(12), int64(4), object(3)\n",
      "memory usage: 59.5+ KB\n"
     ]
    }
   ],
   "source": [
    "movies.info()"
   ]
  },
  {
   "cell_type": "markdown",
   "id": "f13e81fc",
   "metadata": {},
   "source": [
    "# Filling Empty data--------->Time_taken "
   ]
  },
  {
   "cell_type": "code",
   "execution_count": 33,
   "id": "3ec06a1d",
   "metadata": {},
   "outputs": [],
   "source": [
    "movies.Time_taken = movies.Time_taken.fillna(movies.Time_taken.mean())"
   ]
  },
  {
   "cell_type": "code",
   "execution_count": 34,
   "id": "b79d4f41",
   "metadata": {},
   "outputs": [
    {
     "name": "stdout",
     "output_type": "stream",
     "text": [
      "<class 'pandas.core.frame.DataFrame'>\n",
      "RangeIndex: 400 entries, 0 to 399\n",
      "Data columns (total 19 columns):\n",
      " #   Column               Non-Null Count  Dtype  \n",
      "---  ------               --------------  -----  \n",
      " 0   Collection           400 non-null    int64  \n",
      " 1   Marketin_expense     400 non-null    float64\n",
      " 2   Production_expense   400 non-null    float64\n",
      " 3   Multiplex_coverage   400 non-null    float64\n",
      " 4   Budget               400 non-null    float64\n",
      " 5   Movie_length         400 non-null    float64\n",
      " 6   Lead_ Actor_Rating   400 non-null    float64\n",
      " 7   Lead_Actress_rating  400 non-null    float64\n",
      " 8   Director_rating      400 non-null    float64\n",
      " 9   Producer_rating      400 non-null    float64\n",
      " 10  Critic_rating        400 non-null    float64\n",
      " 11  Trailer_views        400 non-null    int64  \n",
      " 12  Time_taken           400 non-null    float64\n",
      " 13  Twitter_hastags      400 non-null    float64\n",
      " 14  Genre                400 non-null    object \n",
      " 15  Avg_age_actors       400 non-null    int64  \n",
      " 16  MPAA_film_rating     400 non-null    object \n",
      " 17  Num_multiplex        400 non-null    int64  \n",
      " 18  3D_available         400 non-null    object \n",
      "dtypes: float64(12), int64(4), object(3)\n",
      "memory usage: 59.5+ KB\n"
     ]
    }
   ],
   "source": [
    "movies.info()"
   ]
  },
  {
   "cell_type": "code",
   "execution_count": 35,
   "id": "c3030ac8",
   "metadata": {},
   "outputs": [
    {
     "data": {
      "text/html": [
       "<div>\n",
       "<style scoped>\n",
       "    .dataframe tbody tr th:only-of-type {\n",
       "        vertical-align: middle;\n",
       "    }\n",
       "\n",
       "    .dataframe tbody tr th {\n",
       "        vertical-align: top;\n",
       "    }\n",
       "\n",
       "    .dataframe thead th {\n",
       "        text-align: right;\n",
       "    }\n",
       "</style>\n",
       "<table border=\"1\" class=\"dataframe\">\n",
       "  <thead>\n",
       "    <tr style=\"text-align: right;\">\n",
       "      <th></th>\n",
       "      <th>Collection</th>\n",
       "      <th>Marketin_expense</th>\n",
       "      <th>Production_expense</th>\n",
       "      <th>Multiplex_coverage</th>\n",
       "      <th>Budget</th>\n",
       "      <th>Movie_length</th>\n",
       "      <th>Lead_ Actor_Rating</th>\n",
       "      <th>Lead_Actress_rating</th>\n",
       "      <th>Director_rating</th>\n",
       "      <th>Producer_rating</th>\n",
       "      <th>Critic_rating</th>\n",
       "      <th>Trailer_views</th>\n",
       "      <th>Time_taken</th>\n",
       "      <th>Twitter_hastags</th>\n",
       "      <th>Avg_age_actors</th>\n",
       "      <th>Num_multiplex</th>\n",
       "    </tr>\n",
       "  </thead>\n",
       "  <tbody>\n",
       "    <tr>\n",
       "      <th>count</th>\n",
       "      <td>400.000000</td>\n",
       "      <td>400.000000</td>\n",
       "      <td>400.000000</td>\n",
       "      <td>400.000000</td>\n",
       "      <td>400.000000</td>\n",
       "      <td>400.000000</td>\n",
       "      <td>400.000000</td>\n",
       "      <td>400.000000</td>\n",
       "      <td>400.000000</td>\n",
       "      <td>400.000000</td>\n",
       "      <td>400.000000</td>\n",
       "      <td>400.000000</td>\n",
       "      <td>400.000000</td>\n",
       "      <td>400.000000</td>\n",
       "      <td>400.00000</td>\n",
       "      <td>400.000000</td>\n",
       "    </tr>\n",
       "    <tr>\n",
       "      <th>mean</th>\n",
       "      <td>48646.500000</td>\n",
       "      <td>54.059512</td>\n",
       "      <td>73.832700</td>\n",
       "      <td>0.469881</td>\n",
       "      <td>35197.771537</td>\n",
       "      <td>137.581750</td>\n",
       "      <td>7.810275</td>\n",
       "      <td>7.982813</td>\n",
       "      <td>7.813375</td>\n",
       "      <td>7.993888</td>\n",
       "      <td>7.894100</td>\n",
       "      <td>463223.567500</td>\n",
       "      <td>158.595051</td>\n",
       "      <td>254.567840</td>\n",
       "      <td>38.72250</td>\n",
       "      <td>523.650000</td>\n",
       "    </tr>\n",
       "    <tr>\n",
       "      <th>std</th>\n",
       "      <td>18308.499136</td>\n",
       "      <td>106.576597</td>\n",
       "      <td>13.023426</td>\n",
       "      <td>0.113920</td>\n",
       "      <td>4075.766926</td>\n",
       "      <td>28.990673</td>\n",
       "      <td>1.088694</td>\n",
       "      <td>1.089923</td>\n",
       "      <td>1.093581</td>\n",
       "      <td>1.088619</td>\n",
       "      <td>0.672413</td>\n",
       "      <td>65225.567649</td>\n",
       "      <td>29.338819</td>\n",
       "      <td>38.214663</td>\n",
       "      <td>12.63069</td>\n",
       "      <td>103.661283</td>\n",
       "    </tr>\n",
       "    <tr>\n",
       "      <th>min</th>\n",
       "      <td>10000.000000</td>\n",
       "      <td>20.126400</td>\n",
       "      <td>55.920000</td>\n",
       "      <td>0.129000</td>\n",
       "      <td>19781.355000</td>\n",
       "      <td>76.400000</td>\n",
       "      <td>3.840000</td>\n",
       "      <td>4.035000</td>\n",
       "      <td>3.840000</td>\n",
       "      <td>4.030000</td>\n",
       "      <td>6.600000</td>\n",
       "      <td>215432.000000</td>\n",
       "      <td>105.360000</td>\n",
       "      <td>201.632000</td>\n",
       "      <td>6.00000</td>\n",
       "      <td>333.000000</td>\n",
       "    </tr>\n",
       "    <tr>\n",
       "      <th>25%</th>\n",
       "      <td>37800.000000</td>\n",
       "      <td>21.321950</td>\n",
       "      <td>63.250000</td>\n",
       "      <td>0.419000</td>\n",
       "      <td>32721.727500</td>\n",
       "      <td>111.175000</td>\n",
       "      <td>7.092500</td>\n",
       "      <td>7.252500</td>\n",
       "      <td>7.123750</td>\n",
       "      <td>7.273750</td>\n",
       "      <td>7.320000</td>\n",
       "      <td>436793.500000</td>\n",
       "      <td>133.720000</td>\n",
       "      <td>223.804000</td>\n",
       "      <td>26.00000</td>\n",
       "      <td>451.000000</td>\n",
       "    </tr>\n",
       "    <tr>\n",
       "      <th>50%</th>\n",
       "      <td>45000.000000</td>\n",
       "      <td>23.214700</td>\n",
       "      <td>69.030000</td>\n",
       "      <td>0.494500</td>\n",
       "      <td>34593.762500</td>\n",
       "      <td>142.250000</td>\n",
       "      <td>7.995000</td>\n",
       "      <td>8.157500</td>\n",
       "      <td>7.990000</td>\n",
       "      <td>8.140000</td>\n",
       "      <td>7.960000</td>\n",
       "      <td>474930.000000</td>\n",
       "      <td>158.777526</td>\n",
       "      <td>246.680000</td>\n",
       "      <td>39.00000</td>\n",
       "      <td>510.000000</td>\n",
       "    </tr>\n",
       "    <tr>\n",
       "      <th>75%</th>\n",
       "      <td>56500.000000</td>\n",
       "      <td>34.638300</td>\n",
       "      <td>82.840000</td>\n",
       "      <td>0.558000</td>\n",
       "      <td>37142.118750</td>\n",
       "      <td>165.400000</td>\n",
       "      <td>8.725000</td>\n",
       "      <td>8.912500</td>\n",
       "      <td>8.740000</td>\n",
       "      <td>8.931250</td>\n",
       "      <td>8.400000</td>\n",
       "      <td>507690.500000</td>\n",
       "      <td>182.890000</td>\n",
       "      <td>283.444000</td>\n",
       "      <td>50.00000</td>\n",
       "      <td>571.000000</td>\n",
       "    </tr>\n",
       "    <tr>\n",
       "      <th>max</th>\n",
       "      <td>100000.000000</td>\n",
       "      <td>1416.456660</td>\n",
       "      <td>106.300000</td>\n",
       "      <td>0.615000</td>\n",
       "      <td>48772.900000</td>\n",
       "      <td>173.500000</td>\n",
       "      <td>9.435000</td>\n",
       "      <td>9.540000</td>\n",
       "      <td>9.425000</td>\n",
       "      <td>9.635000</td>\n",
       "      <td>9.400000</td>\n",
       "      <td>567784.000000</td>\n",
       "      <td>217.520000</td>\n",
       "      <td>616.000000</td>\n",
       "      <td>60.00000</td>\n",
       "      <td>868.000000</td>\n",
       "    </tr>\n",
       "  </tbody>\n",
       "</table>\n",
       "</div>"
      ],
      "text/plain": [
       "          Collection  Marketin_expense  Production_expense  \\\n",
       "count     400.000000        400.000000          400.000000   \n",
       "mean    48646.500000         54.059512           73.832700   \n",
       "std     18308.499136        106.576597           13.023426   \n",
       "min     10000.000000         20.126400           55.920000   \n",
       "25%     37800.000000         21.321950           63.250000   \n",
       "50%     45000.000000         23.214700           69.030000   \n",
       "75%     56500.000000         34.638300           82.840000   \n",
       "max    100000.000000       1416.456660          106.300000   \n",
       "\n",
       "       Multiplex_coverage        Budget  Movie_length  Lead_ Actor_Rating  \\\n",
       "count          400.000000    400.000000    400.000000          400.000000   \n",
       "mean             0.469881  35197.771537    137.581750            7.810275   \n",
       "std              0.113920   4075.766926     28.990673            1.088694   \n",
       "min              0.129000  19781.355000     76.400000            3.840000   \n",
       "25%              0.419000  32721.727500    111.175000            7.092500   \n",
       "50%              0.494500  34593.762500    142.250000            7.995000   \n",
       "75%              0.558000  37142.118750    165.400000            8.725000   \n",
       "max              0.615000  48772.900000    173.500000            9.435000   \n",
       "\n",
       "       Lead_Actress_rating  Director_rating  Producer_rating  Critic_rating  \\\n",
       "count           400.000000       400.000000       400.000000     400.000000   \n",
       "mean              7.982813         7.813375         7.993888       7.894100   \n",
       "std               1.089923         1.093581         1.088619       0.672413   \n",
       "min               4.035000         3.840000         4.030000       6.600000   \n",
       "25%               7.252500         7.123750         7.273750       7.320000   \n",
       "50%               8.157500         7.990000         8.140000       7.960000   \n",
       "75%               8.912500         8.740000         8.931250       8.400000   \n",
       "max               9.540000         9.425000         9.635000       9.400000   \n",
       "\n",
       "       Trailer_views  Time_taken  Twitter_hastags  Avg_age_actors  \\\n",
       "count     400.000000  400.000000       400.000000       400.00000   \n",
       "mean   463223.567500  158.595051       254.567840        38.72250   \n",
       "std     65225.567649   29.338819        38.214663        12.63069   \n",
       "min    215432.000000  105.360000       201.632000         6.00000   \n",
       "25%    436793.500000  133.720000       223.804000        26.00000   \n",
       "50%    474930.000000  158.777526       246.680000        39.00000   \n",
       "75%    507690.500000  182.890000       283.444000        50.00000   \n",
       "max    567784.000000  217.520000       616.000000        60.00000   \n",
       "\n",
       "       Num_multiplex  \n",
       "count     400.000000  \n",
       "mean      523.650000  \n",
       "std       103.661283  \n",
       "min       333.000000  \n",
       "25%       451.000000  \n",
       "50%       510.000000  \n",
       "75%       571.000000  \n",
       "max       868.000000  "
      ]
     },
     "execution_count": 35,
     "metadata": {},
     "output_type": "execute_result"
    }
   ],
   "source": [
    "movies.describe()"
   ]
  },
  {
   "cell_type": "code",
   "execution_count": 36,
   "id": "744b5dde",
   "metadata": {},
   "outputs": [],
   "source": [
    "df=movies"
   ]
  },
  {
   "cell_type": "code",
   "execution_count": 37,
   "id": "2fc8c6a2",
   "metadata": {},
   "outputs": [
    {
     "data": {
      "text/html": [
       "<div>\n",
       "<style scoped>\n",
       "    .dataframe tbody tr th:only-of-type {\n",
       "        vertical-align: middle;\n",
       "    }\n",
       "\n",
       "    .dataframe tbody tr th {\n",
       "        vertical-align: top;\n",
       "    }\n",
       "\n",
       "    .dataframe thead th {\n",
       "        text-align: right;\n",
       "    }\n",
       "</style>\n",
       "<table border=\"1\" class=\"dataframe\">\n",
       "  <thead>\n",
       "    <tr style=\"text-align: right;\">\n",
       "      <th></th>\n",
       "      <th>Collection</th>\n",
       "      <th>Marketin_expense</th>\n",
       "      <th>Production_expense</th>\n",
       "      <th>Multiplex_coverage</th>\n",
       "      <th>Budget</th>\n",
       "      <th>Movie_length</th>\n",
       "      <th>Lead_ Actor_Rating</th>\n",
       "      <th>Lead_Actress_rating</th>\n",
       "      <th>Director_rating</th>\n",
       "      <th>Producer_rating</th>\n",
       "      <th>Critic_rating</th>\n",
       "      <th>Trailer_views</th>\n",
       "      <th>Time_taken</th>\n",
       "      <th>Twitter_hastags</th>\n",
       "      <th>Genre</th>\n",
       "      <th>Avg_age_actors</th>\n",
       "      <th>MPAA_film_rating</th>\n",
       "      <th>Num_multiplex</th>\n",
       "      <th>3D_available</th>\n",
       "    </tr>\n",
       "  </thead>\n",
       "  <tbody>\n",
       "    <tr>\n",
       "      <th>0</th>\n",
       "      <td>48000</td>\n",
       "      <td>20.1264</td>\n",
       "      <td>59.62</td>\n",
       "      <td>0.462</td>\n",
       "      <td>36524.125</td>\n",
       "      <td>138.7</td>\n",
       "      <td>7.825</td>\n",
       "      <td>8.095</td>\n",
       "      <td>7.910</td>\n",
       "      <td>7.995</td>\n",
       "      <td>7.94</td>\n",
       "      <td>527367</td>\n",
       "      <td>109.60</td>\n",
       "      <td>223.840</td>\n",
       "      <td>Thriller</td>\n",
       "      <td>23</td>\n",
       "      <td>PG</td>\n",
       "      <td>494</td>\n",
       "      <td>YES</td>\n",
       "    </tr>\n",
       "    <tr>\n",
       "      <th>1</th>\n",
       "      <td>43200</td>\n",
       "      <td>20.5462</td>\n",
       "      <td>69.14</td>\n",
       "      <td>0.531</td>\n",
       "      <td>35668.655</td>\n",
       "      <td>152.4</td>\n",
       "      <td>7.505</td>\n",
       "      <td>7.650</td>\n",
       "      <td>7.440</td>\n",
       "      <td>7.470</td>\n",
       "      <td>7.44</td>\n",
       "      <td>494055</td>\n",
       "      <td>146.64</td>\n",
       "      <td>243.456</td>\n",
       "      <td>Drama</td>\n",
       "      <td>42</td>\n",
       "      <td>PG</td>\n",
       "      <td>462</td>\n",
       "      <td>NO</td>\n",
       "    </tr>\n",
       "    <tr>\n",
       "      <th>2</th>\n",
       "      <td>69400</td>\n",
       "      <td>20.5458</td>\n",
       "      <td>69.14</td>\n",
       "      <td>0.531</td>\n",
       "      <td>39912.675</td>\n",
       "      <td>134.6</td>\n",
       "      <td>7.485</td>\n",
       "      <td>7.570</td>\n",
       "      <td>7.495</td>\n",
       "      <td>7.515</td>\n",
       "      <td>7.44</td>\n",
       "      <td>547051</td>\n",
       "      <td>147.88</td>\n",
       "      <td>616.000</td>\n",
       "      <td>Comedy</td>\n",
       "      <td>38</td>\n",
       "      <td>PG</td>\n",
       "      <td>458</td>\n",
       "      <td>NO</td>\n",
       "    </tr>\n",
       "    <tr>\n",
       "      <th>3</th>\n",
       "      <td>66800</td>\n",
       "      <td>20.6474</td>\n",
       "      <td>59.36</td>\n",
       "      <td>0.542</td>\n",
       "      <td>38873.890</td>\n",
       "      <td>119.3</td>\n",
       "      <td>6.895</td>\n",
       "      <td>7.035</td>\n",
       "      <td>6.920</td>\n",
       "      <td>7.020</td>\n",
       "      <td>8.26</td>\n",
       "      <td>516279</td>\n",
       "      <td>185.36</td>\n",
       "      <td>225.344</td>\n",
       "      <td>Drama</td>\n",
       "      <td>45</td>\n",
       "      <td>PG</td>\n",
       "      <td>472</td>\n",
       "      <td>YES</td>\n",
       "    </tr>\n",
       "    <tr>\n",
       "      <th>4</th>\n",
       "      <td>72400</td>\n",
       "      <td>21.3810</td>\n",
       "      <td>59.36</td>\n",
       "      <td>0.542</td>\n",
       "      <td>39701.585</td>\n",
       "      <td>127.7</td>\n",
       "      <td>6.920</td>\n",
       "      <td>7.070</td>\n",
       "      <td>6.815</td>\n",
       "      <td>7.070</td>\n",
       "      <td>8.26</td>\n",
       "      <td>531448</td>\n",
       "      <td>176.48</td>\n",
       "      <td>225.792</td>\n",
       "      <td>Drama</td>\n",
       "      <td>55</td>\n",
       "      <td>PG</td>\n",
       "      <td>395</td>\n",
       "      <td>NO</td>\n",
       "    </tr>\n",
       "  </tbody>\n",
       "</table>\n",
       "</div>"
      ],
      "text/plain": [
       "   Collection  Marketin_expense  Production_expense  Multiplex_coverage  \\\n",
       "0       48000           20.1264               59.62               0.462   \n",
       "1       43200           20.5462               69.14               0.531   \n",
       "2       69400           20.5458               69.14               0.531   \n",
       "3       66800           20.6474               59.36               0.542   \n",
       "4       72400           21.3810               59.36               0.542   \n",
       "\n",
       "      Budget  Movie_length  Lead_ Actor_Rating  Lead_Actress_rating  \\\n",
       "0  36524.125         138.7               7.825                8.095   \n",
       "1  35668.655         152.4               7.505                7.650   \n",
       "2  39912.675         134.6               7.485                7.570   \n",
       "3  38873.890         119.3               6.895                7.035   \n",
       "4  39701.585         127.7               6.920                7.070   \n",
       "\n",
       "   Director_rating  Producer_rating  Critic_rating  Trailer_views  Time_taken  \\\n",
       "0            7.910            7.995           7.94         527367      109.60   \n",
       "1            7.440            7.470           7.44         494055      146.64   \n",
       "2            7.495            7.515           7.44         547051      147.88   \n",
       "3            6.920            7.020           8.26         516279      185.36   \n",
       "4            6.815            7.070           8.26         531448      176.48   \n",
       "\n",
       "   Twitter_hastags     Genre  Avg_age_actors MPAA_film_rating  Num_multiplex  \\\n",
       "0          223.840  Thriller              23               PG            494   \n",
       "1          243.456     Drama              42               PG            462   \n",
       "2          616.000    Comedy              38               PG            458   \n",
       "3          225.344     Drama              45               PG            472   \n",
       "4          225.792     Drama              55               PG            395   \n",
       "\n",
       "  3D_available  \n",
       "0          YES  \n",
       "1           NO  \n",
       "2           NO  \n",
       "3          YES  \n",
       "4           NO  "
      ]
     },
     "execution_count": 37,
     "metadata": {},
     "output_type": "execute_result"
    }
   ],
   "source": [
    "movies.head()"
   ]
  },
  {
   "cell_type": "markdown",
   "id": "2f4e48b0",
   "metadata": {},
   "source": [
    "# Delete MPAA_film_rating-----------> All are PG"
   ]
  },
  {
   "cell_type": "code",
   "execution_count": 38,
   "id": "a65a5c4d",
   "metadata": {},
   "outputs": [],
   "source": [
    "del movies['MPAA_film_rating']"
   ]
  },
  {
   "cell_type": "code",
   "execution_count": 39,
   "id": "5e85e53b",
   "metadata": {},
   "outputs": [
    {
     "data": {
      "text/html": [
       "<div>\n",
       "<style scoped>\n",
       "    .dataframe tbody tr th:only-of-type {\n",
       "        vertical-align: middle;\n",
       "    }\n",
       "\n",
       "    .dataframe tbody tr th {\n",
       "        vertical-align: top;\n",
       "    }\n",
       "\n",
       "    .dataframe thead th {\n",
       "        text-align: right;\n",
       "    }\n",
       "</style>\n",
       "<table border=\"1\" class=\"dataframe\">\n",
       "  <thead>\n",
       "    <tr style=\"text-align: right;\">\n",
       "      <th></th>\n",
       "      <th>Collection</th>\n",
       "      <th>Marketin_expense</th>\n",
       "      <th>Production_expense</th>\n",
       "      <th>Multiplex_coverage</th>\n",
       "      <th>Budget</th>\n",
       "      <th>Movie_length</th>\n",
       "      <th>Lead_ Actor_Rating</th>\n",
       "      <th>Lead_Actress_rating</th>\n",
       "      <th>Director_rating</th>\n",
       "      <th>Producer_rating</th>\n",
       "      <th>Critic_rating</th>\n",
       "      <th>Trailer_views</th>\n",
       "      <th>Time_taken</th>\n",
       "      <th>Twitter_hastags</th>\n",
       "      <th>Genre</th>\n",
       "      <th>Avg_age_actors</th>\n",
       "      <th>Num_multiplex</th>\n",
       "      <th>3D_available</th>\n",
       "    </tr>\n",
       "  </thead>\n",
       "  <tbody>\n",
       "    <tr>\n",
       "      <th>0</th>\n",
       "      <td>48000</td>\n",
       "      <td>20.1264</td>\n",
       "      <td>59.62</td>\n",
       "      <td>0.462</td>\n",
       "      <td>36524.125</td>\n",
       "      <td>138.7</td>\n",
       "      <td>7.825</td>\n",
       "      <td>8.095</td>\n",
       "      <td>7.910</td>\n",
       "      <td>7.995</td>\n",
       "      <td>7.94</td>\n",
       "      <td>527367</td>\n",
       "      <td>109.60</td>\n",
       "      <td>223.840</td>\n",
       "      <td>Thriller</td>\n",
       "      <td>23</td>\n",
       "      <td>494</td>\n",
       "      <td>YES</td>\n",
       "    </tr>\n",
       "    <tr>\n",
       "      <th>1</th>\n",
       "      <td>43200</td>\n",
       "      <td>20.5462</td>\n",
       "      <td>69.14</td>\n",
       "      <td>0.531</td>\n",
       "      <td>35668.655</td>\n",
       "      <td>152.4</td>\n",
       "      <td>7.505</td>\n",
       "      <td>7.650</td>\n",
       "      <td>7.440</td>\n",
       "      <td>7.470</td>\n",
       "      <td>7.44</td>\n",
       "      <td>494055</td>\n",
       "      <td>146.64</td>\n",
       "      <td>243.456</td>\n",
       "      <td>Drama</td>\n",
       "      <td>42</td>\n",
       "      <td>462</td>\n",
       "      <td>NO</td>\n",
       "    </tr>\n",
       "    <tr>\n",
       "      <th>2</th>\n",
       "      <td>69400</td>\n",
       "      <td>20.5458</td>\n",
       "      <td>69.14</td>\n",
       "      <td>0.531</td>\n",
       "      <td>39912.675</td>\n",
       "      <td>134.6</td>\n",
       "      <td>7.485</td>\n",
       "      <td>7.570</td>\n",
       "      <td>7.495</td>\n",
       "      <td>7.515</td>\n",
       "      <td>7.44</td>\n",
       "      <td>547051</td>\n",
       "      <td>147.88</td>\n",
       "      <td>616.000</td>\n",
       "      <td>Comedy</td>\n",
       "      <td>38</td>\n",
       "      <td>458</td>\n",
       "      <td>NO</td>\n",
       "    </tr>\n",
       "    <tr>\n",
       "      <th>3</th>\n",
       "      <td>66800</td>\n",
       "      <td>20.6474</td>\n",
       "      <td>59.36</td>\n",
       "      <td>0.542</td>\n",
       "      <td>38873.890</td>\n",
       "      <td>119.3</td>\n",
       "      <td>6.895</td>\n",
       "      <td>7.035</td>\n",
       "      <td>6.920</td>\n",
       "      <td>7.020</td>\n",
       "      <td>8.26</td>\n",
       "      <td>516279</td>\n",
       "      <td>185.36</td>\n",
       "      <td>225.344</td>\n",
       "      <td>Drama</td>\n",
       "      <td>45</td>\n",
       "      <td>472</td>\n",
       "      <td>YES</td>\n",
       "    </tr>\n",
       "    <tr>\n",
       "      <th>4</th>\n",
       "      <td>72400</td>\n",
       "      <td>21.3810</td>\n",
       "      <td>59.36</td>\n",
       "      <td>0.542</td>\n",
       "      <td>39701.585</td>\n",
       "      <td>127.7</td>\n",
       "      <td>6.920</td>\n",
       "      <td>7.070</td>\n",
       "      <td>6.815</td>\n",
       "      <td>7.070</td>\n",
       "      <td>8.26</td>\n",
       "      <td>531448</td>\n",
       "      <td>176.48</td>\n",
       "      <td>225.792</td>\n",
       "      <td>Drama</td>\n",
       "      <td>55</td>\n",
       "      <td>395</td>\n",
       "      <td>NO</td>\n",
       "    </tr>\n",
       "  </tbody>\n",
       "</table>\n",
       "</div>"
      ],
      "text/plain": [
       "   Collection  Marketin_expense  Production_expense  Multiplex_coverage  \\\n",
       "0       48000           20.1264               59.62               0.462   \n",
       "1       43200           20.5462               69.14               0.531   \n",
       "2       69400           20.5458               69.14               0.531   \n",
       "3       66800           20.6474               59.36               0.542   \n",
       "4       72400           21.3810               59.36               0.542   \n",
       "\n",
       "      Budget  Movie_length  Lead_ Actor_Rating  Lead_Actress_rating  \\\n",
       "0  36524.125         138.7               7.825                8.095   \n",
       "1  35668.655         152.4               7.505                7.650   \n",
       "2  39912.675         134.6               7.485                7.570   \n",
       "3  38873.890         119.3               6.895                7.035   \n",
       "4  39701.585         127.7               6.920                7.070   \n",
       "\n",
       "   Director_rating  Producer_rating  Critic_rating  Trailer_views  Time_taken  \\\n",
       "0            7.910            7.995           7.94         527367      109.60   \n",
       "1            7.440            7.470           7.44         494055      146.64   \n",
       "2            7.495            7.515           7.44         547051      147.88   \n",
       "3            6.920            7.020           8.26         516279      185.36   \n",
       "4            6.815            7.070           8.26         531448      176.48   \n",
       "\n",
       "   Twitter_hastags     Genre  Avg_age_actors  Num_multiplex 3D_available  \n",
       "0          223.840  Thriller              23            494          YES  \n",
       "1          243.456     Drama              42            462           NO  \n",
       "2          616.000    Comedy              38            458           NO  \n",
       "3          225.344     Drama              45            472          YES  \n",
       "4          225.792     Drama              55            395           NO  "
      ]
     },
     "execution_count": 39,
     "metadata": {},
     "output_type": "execute_result"
    }
   ],
   "source": [
    "movies.head()"
   ]
  },
  {
   "cell_type": "code",
   "execution_count": 40,
   "id": "81d02e8c",
   "metadata": {},
   "outputs": [],
   "source": [
    "movies = pd.get_dummies(movies)"
   ]
  },
  {
   "cell_type": "code",
   "execution_count": 41,
   "id": "87deb601",
   "metadata": {},
   "outputs": [
    {
     "data": {
      "text/html": [
       "<div>\n",
       "<style scoped>\n",
       "    .dataframe tbody tr th:only-of-type {\n",
       "        vertical-align: middle;\n",
       "    }\n",
       "\n",
       "    .dataframe tbody tr th {\n",
       "        vertical-align: top;\n",
       "    }\n",
       "\n",
       "    .dataframe thead th {\n",
       "        text-align: right;\n",
       "    }\n",
       "</style>\n",
       "<table border=\"1\" class=\"dataframe\">\n",
       "  <thead>\n",
       "    <tr style=\"text-align: right;\">\n",
       "      <th></th>\n",
       "      <th>Collection</th>\n",
       "      <th>Marketin_expense</th>\n",
       "      <th>Production_expense</th>\n",
       "      <th>Multiplex_coverage</th>\n",
       "      <th>Budget</th>\n",
       "      <th>Movie_length</th>\n",
       "      <th>Lead_ Actor_Rating</th>\n",
       "      <th>Lead_Actress_rating</th>\n",
       "      <th>Director_rating</th>\n",
       "      <th>Producer_rating</th>\n",
       "      <th>...</th>\n",
       "      <th>Time_taken</th>\n",
       "      <th>Twitter_hastags</th>\n",
       "      <th>Avg_age_actors</th>\n",
       "      <th>Num_multiplex</th>\n",
       "      <th>Genre_Action</th>\n",
       "      <th>Genre_Comedy</th>\n",
       "      <th>Genre_Drama</th>\n",
       "      <th>Genre_Thriller</th>\n",
       "      <th>3D_available_NO</th>\n",
       "      <th>3D_available_YES</th>\n",
       "    </tr>\n",
       "  </thead>\n",
       "  <tbody>\n",
       "    <tr>\n",
       "      <th>0</th>\n",
       "      <td>48000</td>\n",
       "      <td>20.1264</td>\n",
       "      <td>59.62</td>\n",
       "      <td>0.462</td>\n",
       "      <td>36524.125</td>\n",
       "      <td>138.7</td>\n",
       "      <td>7.825</td>\n",
       "      <td>8.095</td>\n",
       "      <td>7.910</td>\n",
       "      <td>7.995</td>\n",
       "      <td>...</td>\n",
       "      <td>109.60</td>\n",
       "      <td>223.840</td>\n",
       "      <td>23</td>\n",
       "      <td>494</td>\n",
       "      <td>0</td>\n",
       "      <td>0</td>\n",
       "      <td>0</td>\n",
       "      <td>1</td>\n",
       "      <td>0</td>\n",
       "      <td>1</td>\n",
       "    </tr>\n",
       "    <tr>\n",
       "      <th>1</th>\n",
       "      <td>43200</td>\n",
       "      <td>20.5462</td>\n",
       "      <td>69.14</td>\n",
       "      <td>0.531</td>\n",
       "      <td>35668.655</td>\n",
       "      <td>152.4</td>\n",
       "      <td>7.505</td>\n",
       "      <td>7.650</td>\n",
       "      <td>7.440</td>\n",
       "      <td>7.470</td>\n",
       "      <td>...</td>\n",
       "      <td>146.64</td>\n",
       "      <td>243.456</td>\n",
       "      <td>42</td>\n",
       "      <td>462</td>\n",
       "      <td>0</td>\n",
       "      <td>0</td>\n",
       "      <td>1</td>\n",
       "      <td>0</td>\n",
       "      <td>1</td>\n",
       "      <td>0</td>\n",
       "    </tr>\n",
       "    <tr>\n",
       "      <th>2</th>\n",
       "      <td>69400</td>\n",
       "      <td>20.5458</td>\n",
       "      <td>69.14</td>\n",
       "      <td>0.531</td>\n",
       "      <td>39912.675</td>\n",
       "      <td>134.6</td>\n",
       "      <td>7.485</td>\n",
       "      <td>7.570</td>\n",
       "      <td>7.495</td>\n",
       "      <td>7.515</td>\n",
       "      <td>...</td>\n",
       "      <td>147.88</td>\n",
       "      <td>616.000</td>\n",
       "      <td>38</td>\n",
       "      <td>458</td>\n",
       "      <td>0</td>\n",
       "      <td>1</td>\n",
       "      <td>0</td>\n",
       "      <td>0</td>\n",
       "      <td>1</td>\n",
       "      <td>0</td>\n",
       "    </tr>\n",
       "    <tr>\n",
       "      <th>3</th>\n",
       "      <td>66800</td>\n",
       "      <td>20.6474</td>\n",
       "      <td>59.36</td>\n",
       "      <td>0.542</td>\n",
       "      <td>38873.890</td>\n",
       "      <td>119.3</td>\n",
       "      <td>6.895</td>\n",
       "      <td>7.035</td>\n",
       "      <td>6.920</td>\n",
       "      <td>7.020</td>\n",
       "      <td>...</td>\n",
       "      <td>185.36</td>\n",
       "      <td>225.344</td>\n",
       "      <td>45</td>\n",
       "      <td>472</td>\n",
       "      <td>0</td>\n",
       "      <td>0</td>\n",
       "      <td>1</td>\n",
       "      <td>0</td>\n",
       "      <td>0</td>\n",
       "      <td>1</td>\n",
       "    </tr>\n",
       "    <tr>\n",
       "      <th>4</th>\n",
       "      <td>72400</td>\n",
       "      <td>21.3810</td>\n",
       "      <td>59.36</td>\n",
       "      <td>0.542</td>\n",
       "      <td>39701.585</td>\n",
       "      <td>127.7</td>\n",
       "      <td>6.920</td>\n",
       "      <td>7.070</td>\n",
       "      <td>6.815</td>\n",
       "      <td>7.070</td>\n",
       "      <td>...</td>\n",
       "      <td>176.48</td>\n",
       "      <td>225.792</td>\n",
       "      <td>55</td>\n",
       "      <td>395</td>\n",
       "      <td>0</td>\n",
       "      <td>0</td>\n",
       "      <td>1</td>\n",
       "      <td>0</td>\n",
       "      <td>1</td>\n",
       "      <td>0</td>\n",
       "    </tr>\n",
       "  </tbody>\n",
       "</table>\n",
       "<p>5 rows × 22 columns</p>\n",
       "</div>"
      ],
      "text/plain": [
       "   Collection  Marketin_expense  Production_expense  Multiplex_coverage  \\\n",
       "0       48000           20.1264               59.62               0.462   \n",
       "1       43200           20.5462               69.14               0.531   \n",
       "2       69400           20.5458               69.14               0.531   \n",
       "3       66800           20.6474               59.36               0.542   \n",
       "4       72400           21.3810               59.36               0.542   \n",
       "\n",
       "      Budget  Movie_length  Lead_ Actor_Rating  Lead_Actress_rating  \\\n",
       "0  36524.125         138.7               7.825                8.095   \n",
       "1  35668.655         152.4               7.505                7.650   \n",
       "2  39912.675         134.6               7.485                7.570   \n",
       "3  38873.890         119.3               6.895                7.035   \n",
       "4  39701.585         127.7               6.920                7.070   \n",
       "\n",
       "   Director_rating  Producer_rating  ...  Time_taken  Twitter_hastags  \\\n",
       "0            7.910            7.995  ...      109.60          223.840   \n",
       "1            7.440            7.470  ...      146.64          243.456   \n",
       "2            7.495            7.515  ...      147.88          616.000   \n",
       "3            6.920            7.020  ...      185.36          225.344   \n",
       "4            6.815            7.070  ...      176.48          225.792   \n",
       "\n",
       "   Avg_age_actors  Num_multiplex  Genre_Action  Genre_Comedy  Genre_Drama  \\\n",
       "0              23            494             0             0            0   \n",
       "1              42            462             0             0            1   \n",
       "2              38            458             0             1            0   \n",
       "3              45            472             0             0            1   \n",
       "4              55            395             0             0            1   \n",
       "\n",
       "   Genre_Thriller  3D_available_NO  3D_available_YES  \n",
       "0               1                0                 1  \n",
       "1               0                1                 0  \n",
       "2               0                1                 0  \n",
       "3               0                0                 1  \n",
       "4               0                1                 0  \n",
       "\n",
       "[5 rows x 22 columns]"
      ]
     },
     "execution_count": 41,
     "metadata": {},
     "output_type": "execute_result"
    }
   ],
   "source": [
    "movies.head()"
   ]
  },
  {
   "cell_type": "code",
   "execution_count": 42,
   "id": "83e0e547",
   "metadata": {},
   "outputs": [],
   "source": [
    "del movies['3D_available_NO']"
   ]
  },
  {
   "cell_type": "code",
   "execution_count": 43,
   "id": "50beaa9f",
   "metadata": {},
   "outputs": [],
   "source": [
    "del movies['Genre_Action']"
   ]
  },
  {
   "cell_type": "code",
   "execution_count": 44,
   "id": "31257f68",
   "metadata": {},
   "outputs": [
    {
     "data": {
      "text/html": [
       "<div>\n",
       "<style scoped>\n",
       "    .dataframe tbody tr th:only-of-type {\n",
       "        vertical-align: middle;\n",
       "    }\n",
       "\n",
       "    .dataframe tbody tr th {\n",
       "        vertical-align: top;\n",
       "    }\n",
       "\n",
       "    .dataframe thead th {\n",
       "        text-align: right;\n",
       "    }\n",
       "</style>\n",
       "<table border=\"1\" class=\"dataframe\">\n",
       "  <thead>\n",
       "    <tr style=\"text-align: right;\">\n",
       "      <th></th>\n",
       "      <th>Collection</th>\n",
       "      <th>Marketin_expense</th>\n",
       "      <th>Production_expense</th>\n",
       "      <th>Multiplex_coverage</th>\n",
       "      <th>Budget</th>\n",
       "      <th>Movie_length</th>\n",
       "      <th>Lead_ Actor_Rating</th>\n",
       "      <th>Lead_Actress_rating</th>\n",
       "      <th>Director_rating</th>\n",
       "      <th>Producer_rating</th>\n",
       "      <th>Critic_rating</th>\n",
       "      <th>Trailer_views</th>\n",
       "      <th>Time_taken</th>\n",
       "      <th>Twitter_hastags</th>\n",
       "      <th>Avg_age_actors</th>\n",
       "      <th>Num_multiplex</th>\n",
       "      <th>Genre_Comedy</th>\n",
       "      <th>Genre_Drama</th>\n",
       "      <th>Genre_Thriller</th>\n",
       "      <th>3D_available_YES</th>\n",
       "    </tr>\n",
       "  </thead>\n",
       "  <tbody>\n",
       "    <tr>\n",
       "      <th>0</th>\n",
       "      <td>48000</td>\n",
       "      <td>20.1264</td>\n",
       "      <td>59.62</td>\n",
       "      <td>0.462</td>\n",
       "      <td>36524.125</td>\n",
       "      <td>138.7</td>\n",
       "      <td>7.825</td>\n",
       "      <td>8.095</td>\n",
       "      <td>7.910</td>\n",
       "      <td>7.995</td>\n",
       "      <td>7.94</td>\n",
       "      <td>527367</td>\n",
       "      <td>109.60</td>\n",
       "      <td>223.840</td>\n",
       "      <td>23</td>\n",
       "      <td>494</td>\n",
       "      <td>0</td>\n",
       "      <td>0</td>\n",
       "      <td>1</td>\n",
       "      <td>1</td>\n",
       "    </tr>\n",
       "    <tr>\n",
       "      <th>1</th>\n",
       "      <td>43200</td>\n",
       "      <td>20.5462</td>\n",
       "      <td>69.14</td>\n",
       "      <td>0.531</td>\n",
       "      <td>35668.655</td>\n",
       "      <td>152.4</td>\n",
       "      <td>7.505</td>\n",
       "      <td>7.650</td>\n",
       "      <td>7.440</td>\n",
       "      <td>7.470</td>\n",
       "      <td>7.44</td>\n",
       "      <td>494055</td>\n",
       "      <td>146.64</td>\n",
       "      <td>243.456</td>\n",
       "      <td>42</td>\n",
       "      <td>462</td>\n",
       "      <td>0</td>\n",
       "      <td>1</td>\n",
       "      <td>0</td>\n",
       "      <td>0</td>\n",
       "    </tr>\n",
       "    <tr>\n",
       "      <th>2</th>\n",
       "      <td>69400</td>\n",
       "      <td>20.5458</td>\n",
       "      <td>69.14</td>\n",
       "      <td>0.531</td>\n",
       "      <td>39912.675</td>\n",
       "      <td>134.6</td>\n",
       "      <td>7.485</td>\n",
       "      <td>7.570</td>\n",
       "      <td>7.495</td>\n",
       "      <td>7.515</td>\n",
       "      <td>7.44</td>\n",
       "      <td>547051</td>\n",
       "      <td>147.88</td>\n",
       "      <td>616.000</td>\n",
       "      <td>38</td>\n",
       "      <td>458</td>\n",
       "      <td>1</td>\n",
       "      <td>0</td>\n",
       "      <td>0</td>\n",
       "      <td>0</td>\n",
       "    </tr>\n",
       "    <tr>\n",
       "      <th>3</th>\n",
       "      <td>66800</td>\n",
       "      <td>20.6474</td>\n",
       "      <td>59.36</td>\n",
       "      <td>0.542</td>\n",
       "      <td>38873.890</td>\n",
       "      <td>119.3</td>\n",
       "      <td>6.895</td>\n",
       "      <td>7.035</td>\n",
       "      <td>6.920</td>\n",
       "      <td>7.020</td>\n",
       "      <td>8.26</td>\n",
       "      <td>516279</td>\n",
       "      <td>185.36</td>\n",
       "      <td>225.344</td>\n",
       "      <td>45</td>\n",
       "      <td>472</td>\n",
       "      <td>0</td>\n",
       "      <td>1</td>\n",
       "      <td>0</td>\n",
       "      <td>1</td>\n",
       "    </tr>\n",
       "    <tr>\n",
       "      <th>4</th>\n",
       "      <td>72400</td>\n",
       "      <td>21.3810</td>\n",
       "      <td>59.36</td>\n",
       "      <td>0.542</td>\n",
       "      <td>39701.585</td>\n",
       "      <td>127.7</td>\n",
       "      <td>6.920</td>\n",
       "      <td>7.070</td>\n",
       "      <td>6.815</td>\n",
       "      <td>7.070</td>\n",
       "      <td>8.26</td>\n",
       "      <td>531448</td>\n",
       "      <td>176.48</td>\n",
       "      <td>225.792</td>\n",
       "      <td>55</td>\n",
       "      <td>395</td>\n",
       "      <td>0</td>\n",
       "      <td>1</td>\n",
       "      <td>0</td>\n",
       "      <td>0</td>\n",
       "    </tr>\n",
       "  </tbody>\n",
       "</table>\n",
       "</div>"
      ],
      "text/plain": [
       "   Collection  Marketin_expense  Production_expense  Multiplex_coverage  \\\n",
       "0       48000           20.1264               59.62               0.462   \n",
       "1       43200           20.5462               69.14               0.531   \n",
       "2       69400           20.5458               69.14               0.531   \n",
       "3       66800           20.6474               59.36               0.542   \n",
       "4       72400           21.3810               59.36               0.542   \n",
       "\n",
       "      Budget  Movie_length  Lead_ Actor_Rating  Lead_Actress_rating  \\\n",
       "0  36524.125         138.7               7.825                8.095   \n",
       "1  35668.655         152.4               7.505                7.650   \n",
       "2  39912.675         134.6               7.485                7.570   \n",
       "3  38873.890         119.3               6.895                7.035   \n",
       "4  39701.585         127.7               6.920                7.070   \n",
       "\n",
       "   Director_rating  Producer_rating  Critic_rating  Trailer_views  Time_taken  \\\n",
       "0            7.910            7.995           7.94         527367      109.60   \n",
       "1            7.440            7.470           7.44         494055      146.64   \n",
       "2            7.495            7.515           7.44         547051      147.88   \n",
       "3            6.920            7.020           8.26         516279      185.36   \n",
       "4            6.815            7.070           8.26         531448      176.48   \n",
       "\n",
       "   Twitter_hastags  Avg_age_actors  Num_multiplex  Genre_Comedy  Genre_Drama  \\\n",
       "0          223.840              23            494             0            0   \n",
       "1          243.456              42            462             0            1   \n",
       "2          616.000              38            458             1            0   \n",
       "3          225.344              45            472             0            1   \n",
       "4          225.792              55            395             0            1   \n",
       "\n",
       "   Genre_Thriller  3D_available_YES  \n",
       "0               1                 1  \n",
       "1               0                 0  \n",
       "2               0                 0  \n",
       "3               0                 1  \n",
       "4               0                 0  "
      ]
     },
     "execution_count": 44,
     "metadata": {},
     "output_type": "execute_result"
    }
   ],
   "source": [
    "movies.head()"
   ]
  },
  {
   "cell_type": "code",
   "execution_count": 45,
   "id": "71267642",
   "metadata": {},
   "outputs": [],
   "source": [
    "movies2=movies"
   ]
  },
  {
   "cell_type": "code",
   "execution_count": 46,
   "id": "e94c403c",
   "metadata": {},
   "outputs": [],
   "source": [
    "X = movies.loc[:,movies.columns!='Collection']"
   ]
  },
  {
   "cell_type": "code",
   "execution_count": 47,
   "id": "25e8941f",
   "metadata": {},
   "outputs": [],
   "source": [
    "Y = movies['Collection']"
   ]
  },
  {
   "cell_type": "markdown",
   "id": "7bb11aa7",
   "metadata": {},
   "source": [
    "# Splitting Test Train"
   ]
  },
  {
   "cell_type": "code",
   "execution_count": 115,
   "id": "58056537",
   "metadata": {},
   "outputs": [],
   "source": [
    "from sklearn.metrics import confusion_matrix, accuracy_score,r2_score,mean_absolute_error"
   ]
  },
  {
   "cell_type": "code",
   "execution_count": 59,
   "id": "4ab33a00",
   "metadata": {},
   "outputs": [],
   "source": [
    "from sklearn.model_selection import train_test_split"
   ]
  },
  {
   "cell_type": "code",
   "execution_count": 72,
   "id": "e34af0c6",
   "metadata": {},
   "outputs": [],
   "source": [
    "X_train, X_test, Y_train, Y_test = train_test_split(X, Y, test_size = 0.2)"
   ]
  },
  {
   "cell_type": "code",
   "execution_count": 74,
   "id": "a4b763f3",
   "metadata": {},
   "outputs": [
    {
     "name": "stdout",
     "output_type": "stream",
     "text": [
      "(320, 19) (80, 19) (320,) (80,)\n"
     ]
    }
   ],
   "source": [
    "print(X_train.shape,X_test.shape,Y_train.shape,Y_test.shape)"
   ]
  },
  {
   "cell_type": "markdown",
   "id": "be562e57",
   "metadata": {},
   "source": [
    "# Modeling using Logistic Regression"
   ]
  },
  {
   "cell_type": "code",
   "execution_count": 75,
   "id": "2641d71b",
   "metadata": {},
   "outputs": [],
   "source": [
    "from sklearn.linear_model import LinearRegression"
   ]
  },
  {
   "cell_type": "code",
   "execution_count": 76,
   "id": "33b0c56b",
   "metadata": {},
   "outputs": [],
   "source": [
    "LR= LinearRegression()"
   ]
  },
  {
   "cell_type": "code",
   "execution_count": 77,
   "id": "0c89ad10",
   "metadata": {},
   "outputs": [
    {
     "data": {
      "text/plain": [
       "LinearRegression()"
      ]
     },
     "execution_count": 77,
     "metadata": {},
     "output_type": "execute_result"
    }
   ],
   "source": [
    "LR.fit(X_train,Y_train)"
   ]
  },
  {
   "cell_type": "code",
   "execution_count": 78,
   "id": "b077cf7f",
   "metadata": {},
   "outputs": [
    {
     "name": "stdout",
     "output_type": "stream",
     "text": [
      "[-1.45800867e+01 -5.92970735e+01  1.64798175e+04  1.97401011e+00\n",
      " -3.05115155e+01  8.42046219e+03 -9.13499733e+03  8.30379727e+03\n",
      " -2.78844028e+03  4.81142122e+03  9.69629032e-02  2.67767706e+01\n",
      "  2.18035952e+01  2.65597264e+01 -3.57578172e-01  4.26453371e+03\n",
      "  5.66615841e+03  4.40935612e+03  2.17218731e+03]\n"
     ]
    }
   ],
   "source": [
    "print(LR.coef_)"
   ]
  },
  {
   "cell_type": "code",
   "execution_count": 79,
   "id": "bc437fd9",
   "metadata": {},
   "outputs": [
    {
     "name": "stdout",
     "output_type": "stream",
     "text": [
      "-153958.9197589007\n"
     ]
    }
   ],
   "source": [
    "print(LR.intercept_)"
   ]
  },
  {
   "cell_type": "code",
   "execution_count": 80,
   "id": "1ad19f34",
   "metadata": {},
   "outputs": [],
   "source": [
    "Y_predict= LR.predict(X_test)"
   ]
  },
  {
   "cell_type": "code",
   "execution_count": 81,
   "id": "3db58bcf",
   "metadata": {},
   "outputs": [
    {
     "name": "stderr",
     "output_type": "stream",
     "text": [
      "C:\\Users\\91930\\anaconda3\\envs\\tensorflow_gpuenv\\lib\\site-packages\\seaborn\\_decorators.py:36: FutureWarning: Pass the following variables as keyword args: x, y. From version 0.12, the only valid positional argument will be `data`, and passing other arguments without an explicit keyword will result in an error or misinterpretation.\n",
      "  warnings.warn(\n"
     ]
    },
    {
     "data": {
      "text/plain": [
       "<seaborn.axisgrid.JointGrid at 0x25c66017f70>"
      ]
     },
     "execution_count": 81,
     "metadata": {},
     "output_type": "execute_result"
    },
    {
     "data": {
      "image/png": "[encoded data removed]",
      "text/plain": [
       "<Figure size 432x432 with 3 Axes>"
      ]
     },
     "metadata": {
      "needs_background": "light"
     },
     "output_type": "display_data"
    }
   ],
   "source": [
    "sns.jointplot(Y_test,Y_predict)"
   ]
  },
  {
   "cell_type": "code",
   "execution_count": 90,
   "id": "c6e65fdc",
   "metadata": {},
   "outputs": [
    {
     "data": {
      "text/plain": [
       "(80,)"
      ]
     },
     "execution_count": 90,
     "metadata": {},
     "output_type": "execute_result"
    }
   ],
   "source": [
    "Y_test.shape"
   ]
  },
  {
   "cell_type": "code",
   "execution_count": 87,
   "id": "f0c8e0c2",
   "metadata": {},
   "outputs": [
    {
     "data": {
      "text/plain": [
       "(80,)"
      ]
     },
     "execution_count": 87,
     "metadata": {},
     "output_type": "execute_result"
    }
   ],
   "source": [
    "Y_predict.shape"
   ]
  },
  {
   "cell_type": "code",
   "execution_count": 94,
   "id": "090acc51",
   "metadata": {},
   "outputs": [
    {
     "name": "stderr",
     "output_type": "stream",
     "text": [
      "C:\\Users\\91930\\anaconda3\\envs\\tensorflow_gpuenv\\lib\\site-packages\\seaborn\\distributions.py:2551: FutureWarning: `distplot` is a deprecated function and will be removed in a future version. Please adapt your code to use either `displot` (a figure-level function with similar flexibility) or `histplot` (an axes-level function for histograms).\n",
      "  warnings.warn(msg, FutureWarning)\n"
     ]
    },
    {
     "data": {
      "text/plain": [
       "<AxesSubplot:xlabel='Collection', ylabel='Density'>"
      ]
     },
     "execution_count": 94,
     "metadata": {},
     "output_type": "execute_result"
    },
    {
     "data": {
      "image/png": "[encoded data removed]",
      "text/plain": [
       "<Figure size 432x288 with 1 Axes>"
      ]
     },
     "metadata": {
      "needs_background": "light"
     },
     "output_type": "display_data"
    }
   ],
   "source": [
    " sns.distplot(Y_test - Y_predict)"
   ]
  },
  {
   "cell_type": "code",
   "execution_count": 96,
   "id": "fbb818b7",
   "metadata": {},
   "outputs": [
    {
     "data": {
      "text/plain": [
       "8410.822802732357"
      ]
     },
     "execution_count": 96,
     "metadata": {},
     "output_type": "execute_result"
    }
   ],
   "source": [
    "from sklearn import metrics\n",
    "metrics.mean_absolute_error(Y_test,Y_predict)"
   ]
  },
  {
   "cell_type": "code",
   "execution_count": 98,
   "id": "62021c4f",
   "metadata": {},
   "outputs": [
    {
     "data": {
      "text/plain": [
       "159067237.2054792"
      ]
     },
     "execution_count": 98,
     "metadata": {},
     "output_type": "execute_result"
    }
   ],
   "source": [
    "metrics.mean_squared_error(Y_test,Y_predict)"
   ]
  },
  {
   "cell_type": "code",
   "execution_count": 99,
   "id": "b011d5b3",
   "metadata": {},
   "outputs": [
    {
     "data": {
      "text/plain": [
       "12612.186059739177"
      ]
     },
     "execution_count": 99,
     "metadata": {},
     "output_type": "execute_result"
    }
   ],
   "source": [
    "np.sqrt(metrics.mean_squared_error(Y_test,Y_predict))"
   ]
  },
  {
   "cell_type": "code",
   "execution_count": 102,
   "id": "bf9b2abb",
   "metadata": {},
   "outputs": [
    {
     "data": {
      "text/plain": [
       "0.4946672110819681"
      ]
     },
     "execution_count": 102,
     "metadata": {},
     "output_type": "execute_result"
    }
   ],
   "source": [
    "r2_score(Y_test, Y_predict)"
   ]
  },
  {
   "cell_type": "code",
   "execution_count": 116,
   "id": "ffa55f84",
   "metadata": {},
   "outputs": [
    {
     "data": {
      "text/plain": [
       "8410.822802732357"
      ]
     },
     "execution_count": 116,
     "metadata": {},
     "output_type": "execute_result"
    }
   ],
   "source": [
    "mean_absolute_error(Y_test, Y_predict)"
   ]
  },
  {
   "cell_type": "markdown",
   "id": "28d4bd3b",
   "metadata": {},
   "source": [
    "# Decision Tree"
   ]
  },
  {
   "cell_type": "code",
   "execution_count": 113,
   "id": "b6afe700",
   "metadata": {},
   "outputs": [],
   "source": [
    "from sklearn.tree import DecisionTreeRegressor\n",
    "from sklearn.metrics import confusion_matrix, accuracy_score,r2_score,mean_absolute_error\n",
    "from sklearn import metrics\n"
   ]
  },
  {
   "cell_type": "code",
   "execution_count": 108,
   "id": "00823ada",
   "metadata": {},
   "outputs": [],
   "source": [
    "dt = DecisionTreeRegressor()\n",
    "dt.fit(X_train, Y_train)\n",
    "y_predict = dt.predict(X_test)"
   ]
  },
  {
   "cell_type": "code",
   "execution_count": 109,
   "id": "09f2cc01",
   "metadata": {},
   "outputs": [
    {
     "data": {
      "text/plain": [
       "160171000.0"
      ]
     },
     "execution_count": 109,
     "metadata": {},
     "output_type": "execute_result"
    }
   ],
   "source": [
    "metrics.mean_squared_error(Y_test,y_predict)"
   ]
  },
  {
   "cell_type": "code",
   "execution_count": 110,
   "id": "60edab6b",
   "metadata": {},
   "outputs": [
    {
     "data": {
      "text/plain": [
       "12655.868204117804"
      ]
     },
     "execution_count": 110,
     "metadata": {},
     "output_type": "execute_result"
    }
   ],
   "source": [
    "np.sqrt(metrics.mean_squared_error(Y_test,y_predict))"
   ]
  },
  {
   "cell_type": "code",
   "execution_count": 111,
   "id": "fb59816f",
   "metadata": {},
   "outputs": [
    {
     "data": {
      "text/plain": [
       "0.49116072199560357"
      ]
     },
     "execution_count": 111,
     "metadata": {},
     "output_type": "execute_result"
    }
   ],
   "source": [
    "r2_score(Y_test, y_predict)"
   ]
  },
  {
   "cell_type": "code",
   "execution_count": 114,
   "id": "a5151966",
   "metadata": {},
   "outputs": [
    {
     "data": {
      "text/plain": [
       "7295.0"
      ]
     },
     "execution_count": 114,
     "metadata": {},
     "output_type": "execute_result"
    }
   ],
   "source": [
    "mean_absolute_error(Y_test, y_predict)"
   ]
  },
  {
   "cell_type": "code",
   "execution_count": null,
   "id": "cf712548",
   "metadata": {},
   "outputs": [],
   "source": []
  }
 ],
 "metadata": {
  "kernelspec": {
   "display_name": "Python 3",
   "language": "python",
   "name": "python3"
  },
  "language_info": {
   "codemirror_mode": {
    "name": "ipython",
    "version": 3
   },
   "file_extension": ".py",
   "mimetype": "text/x-python",
   "name": "python",
   "nbconvert_exporter": "python",
   "pygments_lexer": "ipython3",
   "version": "3.8.10"
  }
 },
 "nbformat": 4,
 "nbformat_minor": 5
}
